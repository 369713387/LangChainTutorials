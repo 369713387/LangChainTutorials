{
 "cells": [
  {
   "cell_type": "markdown",
   "metadata": {},
   "source": [
    "# Caching缓存\n",
    "LangChain为LLMs提供了可选的缓存层。这很有用,原因有两个:\n",
    "- 如果经常多次请求相同的完成,它可以减少您对LLM提供程序进行的API调用次数来节省资金。\n",
    "- 它可以通过减少您对LLM提供程序进行的API调用次数来加速您的应用程序"
   ]
  },
  {
   "cell_type": "markdown",
   "metadata": {},
   "source": [
    "## 通过存储到数据库来实现缓存"
   ]
  },
  {
   "cell_type": "code",
   "execution_count": 39,
   "metadata": {},
   "outputs": [
    {
     "name": "stdout",
     "output_type": "stream",
     "text": [
      "✨【旺仔牛奶】奶香浓郁，快乐加倍！✨\n",
      "\n",
      "姐妹们，今天必须给大家安利一款宝藏饮品——**旺仔牛奶**！无论是童年回忆还是日常必备，它都占据着我们心中不可替代的位置！🥛\n",
      "\n",
      "💡 **为什么选择旺仔牛奶？**  \n",
      "1️⃣ **经典好喝**：醇厚的奶香，甜而不腻，一口下去仿佛回到了无忧无虑的小时候！  \n",
      "2️⃣ **营养满分**：富含蛋白质和钙质，喝出健康好状态，简直是学生党和上班族的完美搭档！  \n",
      "3️⃣ **颜值担当**：经典红蓝配色+呆萌旺仔头像，拍照打卡绝对吸睛！随手一拍就是朋友圈点赞利器！📸  \n",
      "\n",
      "🌟 **超多创意喝法**  \n",
      "- 冷热皆宜：冬天热饮暖胃，夏天冰镇清爽！  \n",
      "- 创意调酒：加入咖啡或奶茶中，解锁新口味！  \n",
      "- 烘焙伴侣：做蛋糕、布丁，让甜点更香浓！  \n",
      "\n",
      "🎁 **福利时间**  \n",
      "快去超市囤几箱吧！现在还有超值优惠哦～和闺蜜一起分享这份快乐，幸福感瞬间拉满！💖\n",
      "\n",
      "#旺仔牛奶 #童年回忆 #健康好物 #网红饮品\n",
      "CPU times: total: 78.1 ms\n",
      "Wall time: 58 ms\n"
     ]
    }
   ],
   "source": [
    "%%time \n",
    "# 统计代码时间\n",
    "import os\n",
    "from langchain.globals import set_llm_cache\n",
    "from langchain.cache import SQLiteCache\n",
    "\n",
    "# 获取当前文件的绝对路径\n",
    "db_path = os.path.abspath(\"/langchain_cache.db\")\n",
    "\n",
    "# 创建一个SQLiteCache对象\n",
    "cache = SQLiteCache(\n",
    "    database_path=db_path\n",
    ")   \n",
    "\n",
    "# 设置缓存\n",
    "set_llm_cache(cache)\n",
    "\n",
    "from langchain_core.output_parsers import StrOutputParser\n",
    "from langchain.prompts import PromptTemplate\n",
    "\n",
    "prompt = PromptTemplate(\n",
    "    template=\"\"\"\n",
    "    请根据下面的主题写一篇小红书营销的短文：{input}\n",
    "    \"\"\",\n",
    "    input_variables=[\"input\"]\n",
    ")\n",
    "\n",
    "from langchain_openai import ChatOpenAI\n",
    "# 创建一个LLM对象\n",
    "llm = ChatOpenAI(\n",
    "    model= \"qwen-turbo\",\n",
    "    api_key=os.getenv(\"API_KEY\"),\n",
    "    base_url=os.getenv(\"API_BASEURL\")\n",
    ")\n",
    "\n",
    "# 创建一个Chain\n",
    "chain = prompt | llm | StrOutputParser()\n",
    "\n",
    "# 执行Chain\n",
    "result = chain.invoke(\"旺仔牛奶\")\n",
    "\n",
    "print(result)\n"
   ]
  }
 ],
 "metadata": {
  "kernelspec": {
   "display_name": "Python (Anaconda)",
   "language": "python",
   "name": "anaconda"
  },
  "language_info": {
   "codemirror_mode": {
    "name": "ipython",
    "version": 3
   },
   "file_extension": ".py",
   "mimetype": "text/x-python",
   "name": "python",
   "nbconvert_exporter": "python",
   "pygments_lexer": "ipython3",
   "version": "3.12.3"
  }
 },
 "nbformat": 4,
 "nbformat_minor": 2
}
