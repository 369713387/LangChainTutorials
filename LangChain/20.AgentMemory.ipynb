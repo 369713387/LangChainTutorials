{
 "cells": [
  {
   "cell_type": "markdown",
   "metadata": {},
   "source": [
    "# 智能体的记忆\n",
    "\n",
    "这个笔记本演示了如何在LangChain中为智能体(Agent)添加记忆功能，使其能够记住与用户之间的对话历史。\n",
    "\n",
    "## 主要内容\n",
    "\n",
    "本教程涵盖了以下内容：\n",
    "\n",
    "1. **基本记忆实现**\n",
    "   - 通过手动管理chat_history参数来实现记忆\n",
    "   - 创建和维护对话历史数组\n",
    "\n",
    "2. **高级记忆管理**\n",
    "   - 使用RunnableWithMessageHistory自动跟踪对话历史\n",
    "   - 配置会话ID以支持多用户场景\n",
    "\n",
    "3. **实际应用演示**\n",
    "   - 智能体能够记住用户的名字\n",
    "   - 在后续对话中引用之前交流的信息\n",
    "\n",
    "通过使用记忆功能，智能体可以提供更加连贯、个性化的用户体验，使对话更加自然流畅。这对于构建聊天机器人、虚拟助手和其他需要上下文感知的AI应用至关重要。\n",
    "\n",
    "## 适用场景\n",
    "\n",
    "- 多轮对话应用\n",
    "- 个性化用户体验设计\n",
    "- 需要记住用户偏好的智能助手\n",
    "- 任何需要上下文连贯性的对话系统\n",
    "\n",
    "通过本教程，您将学习如何让AI保持对话的上下文连贯性，并在长期交互中保持用户信息。"
   ]
  },
  {
   "cell_type": "code",
   "execution_count": 13,
   "metadata": {},
   "outputs": [
    {
     "name": "stderr",
     "output_type": "stream",
     "text": [
      "d:\\Anaconda\\Lib\\site-packages\\langsmith\\client.py:256: LangSmithMissingAPIKeyWarning: API key must be provided when using hosted LangSmith API\n",
      "  warnings.warn(\n"
     ]
    },
    {
     "name": "stdout",
     "output_type": "stream",
     "text": [
      "\n",
      "\n",
      "\u001b[1m> Entering new AgentExecutor chain...\u001b[0m\n",
      "\u001b[32;1m\u001b[1;3m你好，呱呱蛙！很高兴认识你。有什么我可以帮助你的？\u001b[0m\n",
      "\n",
      "\u001b[1m> Finished chain.\u001b[0m\n",
      "\n",
      "\n",
      "\u001b[1m> Entering new AgentExecutor chain...\u001b[0m\n",
      "\u001b[32;1m\u001b[1;3m哈哈，你就是呱呱蛙呀！听起来像是一个有趣的角色。你是从哪里冒出来的？有什么特别的故事想和我分享吗？ 😊\u001b[0m\n",
      "\n",
      "\u001b[1m> Finished chain.\u001b[0m\n",
      "\n",
      "\n",
      "\u001b[1m> Entering new AgentExecutor chain...\u001b[0m\n",
      "\u001b[32;1m\u001b[1;3m你好呱呱蛙！很高兴认识你。我是通义千问，一个大型语言模型。如果你有任何问题或需要帮助，尽管告诉我哦！\u001b[0m\n",
      "\n",
      "\u001b[1m> Finished chain.\u001b[0m\n",
      "\n",
      "\n",
      "\u001b[1m> Entering new AgentExecutor chain...\u001b[0m\n",
      "\u001b[32;1m\u001b[1;3m你的名字是“呱呱蛙”。有趣的名字！有什么我可以帮助你的吗？\u001b[0m\n",
      "\n",
      "\u001b[1m> Finished chain.\u001b[0m\n"
     ]
    },
    {
     "data": {
      "text/plain": [
       "{'input': '我的名字是什么？',\n",
       " 'chat_history': [HumanMessage(content='你好，我是呱呱蛙', additional_kwargs={}, response_metadata={}),\n",
       "  AIMessage(content='你好呱呱蛙！很高兴认识你。我是通义千问，一个大型语言模型。如果你有任何问题或需要帮助，尽管告诉我哦！', additional_kwargs={}, response_metadata={})],\n",
       " 'output': '你的名字是“呱呱蛙”。有趣的名字！有什么我可以帮助你的吗？'}"
      ]
     },
     "execution_count": 13,
     "metadata": {},
     "output_type": "execute_result"
    }
   ],
   "source": [
    "import os\n",
    "from langchain import hub\n",
    "from langchain_openai import ChatOpenAI\n",
    "from langchain.agents import create_openai_functions_agent,AgentExecutor\n",
    "from langchain_core.messages import AIMessage,HumanMessage\n",
    "\n",
    "# 初始化大模型\n",
    "llm = ChatOpenAI(\n",
    "    model = \"qwen-turbo\",\n",
    "    api_key = os.getenv(\"API_KEY\"),\n",
    "    base_url = os.getenv(\"API_BASEURL\")\n",
    ")\n",
    "\n",
    "prompt = hub.pull(\"hwchase17/openai-functions-agent\")\n",
    "\n",
    "# 创建智能体\n",
    "agent = create_openai_functions_agent(llm,[],prompt)\n",
    "\n",
    "# 创建智能体执行器\n",
    "agent_executor = AgentExecutor(agent=agent, tools=[],verbose= True)\n",
    "\n",
    "# 通过chat_history参数一起丢给大模型实现历史记忆\n",
    "# 尝试对话\n",
    "chat = agent_executor.invoke({\"input\": \"你好,我是呱呱蛙？\",\"chat_history\":[]})\n",
    "\n",
    "# print(chat)\n",
    "\n",
    "# 创建历史记录数组\n",
    "history = [] + [HumanMessage(content=chat['input']),AIMessage(content=chat['output'])]\n",
    "\n",
    "# print(history)\n",
    "\n",
    "chat2 = agent_executor.invoke({\"input\":\"我是谁？\",\"chat_history\" : history})\n",
    "\n",
    "# print(chat2)\n",
    "\n",
    "# 使用RunnableWithMessageHistory实现自动跟踪\n",
    "\n",
    "from langchain_community.chat_message_histories import ChatMessageHistory\n",
    "from langchain_core.runnables.history import RunnableWithMessageHistory\n",
    "\n",
    "message_history = ChatMessageHistory()\n",
    "\n",
    "agent_with_history = RunnableWithMessageHistory(\n",
    "    runnable= agent_executor,\n",
    "    get_session_history= lambda session_id : message_history,\n",
    "    input_messages_key=\"input\",\n",
    "    history_messages_key=\"chat_history\"\n",
    ")\n",
    "\n",
    "agent_with_history.invoke(\n",
    "    {\"input\":\"你好，我是呱呱蛙\"},\n",
    "    config={\"configurable\":{\"session_id\" : \"s1\"}}\n",
    ")\n",
    "\n",
    "agent_with_history.invoke(\n",
    "    {\"input\":\"我的名字是什么？\"},\n",
    "    config={\"configurable\":{\"session_id\" : \"s1\"}}\n",
    ")\n"
   ]
  }
 ],
 "metadata": {
  "kernelspec": {
   "display_name": "base",
   "language": "python",
   "name": "python3"
  },
  "language_info": {
   "codemirror_mode": {
    "name": "ipython",
    "version": 3
   },
   "file_extension": ".py",
   "mimetype": "text/x-python",
   "name": "python",
   "nbconvert_exporter": "python",
   "pygments_lexer": "ipython3",
   "version": "3.12.3"
  }
 },
 "nbformat": 4,
 "nbformat_minor": 2
}
