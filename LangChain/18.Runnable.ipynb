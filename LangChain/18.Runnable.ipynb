{
 "cells": [
  {
   "cell_type": "markdown",
   "metadata": {},
   "source": [
    "# LangChain的Runnable对象\n",
    "Runnable是LangChain中最核心的接口，它为所有可执行组件提供统一的抽象层。在LangChain表达式语言(LCEL)中，Runnable是构建处理流程的基础构件。\n",
    "\n",
    "## 核心特性\n",
    "1. 统一接口: 所有Runnable对象都支持相同的API方法，包括invoke、stream、batch等\n",
    "2. 可组合性: 可以使用|操作符将多个Runnable组件链接在一起\n",
    "3. 异步支持: 支持ainvoke、astream等异步方法\n",
    "4. 流式处理: 通过stream方法支持流式输出\n",
    "\n",
    "## 主要Runnable类型\n",
    "1. RunnableLambda\n",
    "用于将普通Python函数包装为Runnable对象:"
   ]
  },
  {
   "cell_type": "code",
   "execution_count": 24,
   "metadata": {},
   "outputs": [
    {
     "name": "stdout",
     "output_type": "stream",
     "text": [
      "RunnableLambda,函数调用\n"
     ]
    }
   ],
   "source": [
    "from langchain_core.runnables import RunnableLambda\n",
    "\n",
    "def func(input):\n",
    "    print(f\"{input},函数调用\")\n",
    "\n",
    "# 将函数包装为Runnable对象\n",
    "runnableLambda = RunnableLambda(func)\n",
    "\n",
    "runnableLambda.invoke(\"RunnableLambda\")"
   ]
  },
  {
   "cell_type": "markdown",
   "metadata": {},
   "source": [
    "2. RunnablePassthrough\n",
    "直接传递输入到下一个组件，或用于合并数据:"
   ]
  },
  {
   "cell_type": "code",
   "execution_count": 25,
   "metadata": {},
   "outputs": [
    {
     "name": "stdout",
     "output_type": "stream",
     "text": [
      "RunnablePassthrough,函数调用\n"
     ]
    }
   ],
   "source": [
    "from langchain_core.runnables import RunnablePassthrough\n",
    "chain = (\n",
    "    RunnablePassthrough() |  # 传递原始输入\n",
    "    runnableLambda           # 处理输入\n",
    ")\n",
    "chain.invoke(\"RunnablePassthrough\")"
   ]
  },
  {
   "cell_type": "markdown",
   "metadata": {},
   "source": [
    "3. RunnableParallel 并发调用Runnable，并为每个Runnable提供相同的输入。"
   ]
  },
  {
   "cell_type": "code",
   "execution_count": 36,
   "metadata": {},
   "outputs": [
    {
     "name": "stdout",
     "output_type": "stream",
     "text": [
      "\n",
      "{'a': 1},func1函数调用\n",
      "\n",
      "{'a': 1},func2函数调用\n",
      "\n",
      "{'a': 1},func3函数调用\n"
     ]
    },
    {
     "data": {
      "text/plain": [
       "{'func1': {'a': 1}, 'func2': {'a': 1}, 'func3': {'a': 1}}"
      ]
     },
     "execution_count": 36,
     "metadata": {},
     "output_type": "execute_result"
    }
   ],
   "source": [
    "from langchain_core.runnables import RunnableParallel\n",
    "\n",
    "def func1(input):\n",
    "    print(f\"\\n{input},func1函数调用\")\n",
    "    return input\n",
    "def func2(input):\n",
    "    print(f\"\\n{input},func2函数调用\")\n",
    "    return input\n",
    "def func3(input):\n",
    "    print(f\"\\n{input},func3函数调用\")\n",
    "    return input\n",
    "\n",
    "# # 方式一\n",
    "# chain = RunnableParallel(\n",
    "#     {\n",
    "#         \"func1\": RunnableLambda(func1), \n",
    "#         \"func2\": RunnableLambda(func2), \n",
    "#         \"func3\": RunnableLambda(func3)\n",
    "#     }\n",
    "# )\n",
    "\n",
    "# chain.invoke(1)\n",
    "\n",
    "# # 方式二\n",
    "# chain = RunnableParallel(\n",
    "#     func1 = RunnableLambda(func1), \n",
    "#     func2 = RunnableLambda(func2), \n",
    "#     func3 = RunnableLambda(func3)\n",
    "# )\n",
    "\n",
    "# chain.invoke(1)\n",
    "\n",
    "# 方式三\n",
    "chain = (\n",
    "    RunnablePassthrough() |\n",
    "    {\n",
    "        \"func1\": RunnableLambda(func1), \n",
    "        \"func2\": RunnableLambda(func2), \n",
    "        \"func3\": RunnableLambda(func3)\n",
    "    }\n",
    ")\n",
    "\n",
    "chain.invoke({\"a\": 1})\n",
    "\n",
    "\n"
   ]
  },
  {
   "cell_type": "markdown",
   "metadata": {},
   "source": [
    "4. RunnableGenerator 用于流式处理和生成数据:"
   ]
  },
  {
   "cell_type": "code",
   "execution_count": 41,
   "metadata": {},
   "outputs": [
    {
     "name": "stdout",
     "output_type": "stream",
     "text": [
      "你好！我是Qwen，阿里巴巴集团旗下的通义实验室自主研发的超大规模语言模型。我能够帮助你回答问题、创作文字，如写故事、公文、技术文档等，还能进行逻辑推理、编程，表达观点，玩游戏等。我的训练数据非常丰富，因此可以支持多种语言和领域的问题。\n",
      "\n",
      "如果你有任何问题或需要帮助，欢迎随时告诉我！我会尽力为你提供有用的信息和建议。😊"
     ]
    }
   ],
   "source": [
    "import os\n",
    "from langchain_openai import ChatOpenAI\n",
    "from langchain_core.runnables import RunnableGenerator\n",
    "\n",
    "def streaming_parse(chunks):\n",
    "    for chunk in chunks:\n",
    "        yield chunk.content\n",
    "\n",
    "streaming_output = RunnableGenerator(streaming_parse)\n",
    "\n",
    "llm = ChatOpenAI(\n",
    "    model=\"qwen-turbo\", \n",
    "    api_key=os.getenv(\"API_KEY\"),\n",
    "    base_url=os.getenv(\"API_BASEURL\"),\n",
    "    streaming=True\n",
    ")\n",
    "\n",
    "chain = llm | streaming_output\n",
    "\n",
    "for chunk in chain.stream(\"介绍一下你自己\"):\n",
    "    print(chunk, end=\"\", flush=True)"
   ]
  },
  {
   "cell_type": "markdown",
   "metadata": {},
   "source": [
    "4.1 自定义流生成器 基于流式生成的回答来自定义一个输出解析器"
   ]
  },
  {
   "cell_type": "code",
   "execution_count": 25,
   "metadata": {},
   "outputs": [
    {
     "name": "stdout",
     "output_type": "stream",
     "text": [
      "====================\n",
      "飞机,直升机,滑翔机,热气球,飞艇,无人机,航天飞机,螺旋桨飞机,喷气式飞机,超音速飞机\n",
      "\n",
      "====================\n",
      "\n",
      "返回一个块\n",
      "['飞机']\n",
      "返回一个块\n",
      "['直升机']\n",
      "返回一个块\n",
      "['热气球']\n",
      "返回一个块\n",
      "['飞艇']\n",
      "返回一个块\n",
      "['滑翔机']\n",
      "返回一个块\n",
      "['无人机']\n",
      "返回一个块\n",
      "['喷气式公务机']\n",
      "返回一个块\n",
      "['螺旋桨飞机']\n",
      "返回一个块\n",
      "['战斗机']\n",
      "最后一个块\n",
      "['航天飞机']\n",
      "\n",
      "====================\n",
      "同步逻辑：打印0\n",
      "开始执行异步链...\n",
      "\n",
      "异步返回一个块\n",
      "异步链输出: ['飞机']同步逻辑：打印1\n",
      "同步逻辑：打印2\n",
      "\n",
      "异步返回一个块\n",
      "异步链输出: ['直升机']同步逻辑：打印3\n",
      "同步逻辑：打印4\n",
      "\n",
      "异步返回一个块\n",
      "异步链输出: ['热气球']同步逻辑：打印5\n",
      "同步逻辑：打印6\n",
      "\n",
      "异步返回一个块\n",
      "异步链输出: ['飞艇']同步逻辑：打印7\n",
      "同步逻辑：打印8\n",
      "\n",
      "异步返回一个块\n",
      "异步链输出: ['滑翔机']同步逻辑：打印9\n",
      "\n",
      "异步返回一个块\n",
      "异步链输出: ['无人机']\n",
      "异步返回一个块\n",
      "异步链输出: ['航天飞机']\n",
      "异步返回一个块\n",
      "异步链输出: ['喷气式战斗机']\n",
      "异步返回一个块\n",
      "异步链输出: ['螺旋桨飞机']\n",
      "异步返回最后一个块\n",
      "异步链输出: ['超音速飞机']\n",
      "异步链执行完成\n"
     ]
    }
   ],
   "source": [
    "import asyncio\n",
    "import os\n",
    "import time\n",
    "from typing import AsyncIterator, Iterator, List\n",
    "from langchain_openai import ChatOpenAI\n",
    "from langchain_core.runnables import RunnableGenerator\n",
    "from langchain.prompts.chat import ChatPromptTemplate\n",
    "from langchain_core.output_parsers import StrOutputParser \n",
    "\n",
    "# 基础流式生成器\n",
    "def streaming_parse(chunks):\n",
    "    for chunk in chunks:\n",
    "        yield chunk.content\n",
    "\n",
    "streaming_output = RunnableGenerator(streaming_parse)\n",
    "\n",
    "# 提示词\n",
    "prompt = ChatPromptTemplate.from_template(\n",
    "    \"\"\"\n",
    "    回答以CSV的格式返回中文列表，不要返回其他内容。\n",
    "    输出10个与{transportation}类似的交通工具\n",
    "    \"\"\"\n",
    ")\n",
    "\n",
    "# 大模型\n",
    "llm = ChatOpenAI(\n",
    "    model=\"qwen-turbo\", \n",
    "    api_key=os.getenv(\"API_KEY\"),\n",
    "    base_url=os.getenv(\"API_BASEURL\"),\n",
    "    streaming=True\n",
    ")\n",
    "\n",
    "print('=' * 20)\n",
    "\n",
    "chain = prompt | llm | streaming_output\n",
    "\n",
    "for chunk in chain.stream({\"transportation\" : \"飞机\"}):\n",
    "    print(chunk, end=\"\", flush=True)\n",
    "    \n",
    "print('\\n')\n",
    "print('=' * 20)\n",
    "\n",
    "# 自定义解析器，用于拆分llm令牌的迭代器\n",
    "# 将用逗号分割字符串，把元素放入列表中\n",
    "def split_into_list(input: Iterator[str]) -> Iterator[List[str]]:\n",
    "    #保留输入，直到逗号才进行操作\n",
    "    buffer = ''\n",
    "    for chunk in input:\n",
    "        # 将当前块添加到缓冲区\n",
    "        buffer += chunk\n",
    "        while ',' in buffer:\n",
    "            comma_index = buffer.index(',')\n",
    "            print('\\n返回一个块')\n",
    "            yield [buffer[:comma_index].strip()]\n",
    "            buffer = buffer[comma_index + 1:]\n",
    "    print('\\n最后一个块')\n",
    "    yield[buffer.strip()]\n",
    "    \n",
    "list_chain = (prompt | llm | StrOutputParser() | split_into_list)\n",
    "\n",
    "for chunk in list_chain.stream({\"transportation\" : \"飞机\"}):\n",
    "    print(chunk, end=\"\", flush=True)\n",
    "    \n",
    "\n",
    "print('\\n')\n",
    "print('=' * 20)\n",
    "\n",
    "# 添加异步操作\n",
    "async def asplit_into_list(input: AsyncIterator[str]) -> AsyncIterator[List[str]]:\n",
    "    #保留输入，直到逗号才进行操作\n",
    "    buffer = ''\n",
    "    async for chunk in input:\n",
    "        # 将当前块添加到缓冲区\n",
    "        buffer += chunk\n",
    "        while ',' in buffer:\n",
    "            comma_index = buffer.index(',')\n",
    "            print('\\n异步返回一个块')\n",
    "            yield [buffer[:comma_index].strip()]\n",
    "            buffer = buffer[comma_index + 1:]\n",
    "    print('\\n异步返回最后一个块')\n",
    "    yield[buffer.strip()]\n",
    "\n",
    "\n",
    "alist_chain = (prompt | llm | StrOutputParser() | asplit_into_list)\n",
    "\n",
    "async def run_async_chain():\n",
    "    print(\"开始执行异步链...\")\n",
    "    async for chunk in alist_chain.astream({\"transportation\": \"飞机\"}):\n",
    "        print(f\"异步链输出: {chunk}\", end=\"\", flush=True)\n",
    "        await asyncio.sleep(1)  # 模拟异步处理时间\n",
    "    print(\"\\n异步链执行完成\")\n",
    "    \n",
    "async def main():\n",
    "    # 启动异步链但不等待它完成\n",
    "    async_task = asyncio.create_task(run_async_chain())\n",
    "    \n",
    "    # 在异步任务运行的同时执行同步逻辑\n",
    "    for i in range(10):\n",
    "        print(f\"同步逻辑：打印{i}\")\n",
    "        await asyncio.sleep(0.5)  # 使用异步延迟\n",
    "    \n",
    "    # 如果需要等待异步任务完成再结束程序\n",
    "    await async_task\n",
    "\n",
    "await main()"
   ]
  },
  {
   "cell_type": "markdown",
   "metadata": {},
   "source": [
    "4. RunnableSequence\n",
    "将多个Runnable组合为一个执行序列:"
   ]
  },
  {
   "cell_type": "code",
   "execution_count": null,
   "metadata": {},
   "outputs": [
    {
     "name": "stdout",
     "output_type": "stream",
     "text": [
      "郑州是中国河南省的省会城市。河南位于中国中部，是中华民族的重要发祥地之一，拥有丰富的历史文化和自然景观。郑州作为河南省的省会，是中国重要的综合交通枢纽和中原经济区的核心城市。\n"
     ]
    }
   ],
   "source": [
    "import os\n",
    "from langchain_openai import ChatOpenAI\n",
    "from langchain_core.runnables import RunnableSequence\n",
    "from langchain_core.output_parsers import StrOutputParser\n",
    "from langchain_core.prompts import ChatPromptTemplate\n",
    "\n",
    "prompt_template = ChatPromptTemplate.from_template(\"{location}在哪个省\")\n",
    "\n",
    "llm = ChatOpenAI(\n",
    "    model=\"qwen-turbo\", \n",
    "    api_key=os.getenv(\"API_KEY\"),\n",
    "    base_url=os.getenv(\"API_BASEURL\"),\n",
    "    streaming=True\n",
    ")\n",
    "\n",
    "output_parser = StrOutputParser()\n",
    "\n",
    "# 显式创建\n",
    "sequence = RunnableSequence(\n",
    "    first=prompt_template,\n",
    "    middle=[llm],\n",
    "    last=output_parser\n",
    ")\n",
    "\n",
    "# 更常见的是使用管道操作符\n",
    "sequence = prompt_template | llm | output_parser\n",
    "\n",
    "result = sequence.invoke({\"location\": \"郑州\"})\n",
    "\n",
    "print(result)"
   ]
  },
  {
   "cell_type": "markdown",
   "metadata": {},
   "source": [
    "5. 使用@Chain装饰器 可以将任意函数变成链:"
   ]
  },
  {
   "cell_type": "code",
   "execution_count": 55,
   "metadata": {},
   "outputs": [
    {
     "data": {
      "text/plain": [
       "'郑州：华夏文明发源地，现代交通枢纽与文化名城。'"
      ]
     },
     "execution_count": 55,
     "metadata": {},
     "output_type": "execute_result"
    }
   ],
   "source": [
    "import os\n",
    "from langchain_openai import ChatOpenAI\n",
    "from langchain_core.runnables import chain\n",
    "from langchain_core.prompts import ChatPromptTemplate\n",
    "from langchain_core.output_parsers import StrOutputParser\n",
    "\n",
    "llm = ChatOpenAI(\n",
    "    model=\"qwen-turbo\", \n",
    "    api_key=os.getenv(\"API_KEY\"),\n",
    "    base_url=os.getenv(\"API_BASEURL\"),\n",
    "    streaming=True\n",
    ")\n",
    "\n",
    "@chain\n",
    "def custom_chain(input):\n",
    "    prompt_template1 = ChatPromptTemplate.from_template(\"给我介绍一下{location}\")\n",
    "    prompt_template2 = ChatPromptTemplate.from_template(\"{intruduction}\\n\\n总结上面的内容，精简到20字以内\")\n",
    "    chain = (\n",
    "        prompt_template1 \n",
    "        | llm \n",
    "        | StrOutputParser() \n",
    "        |{ \"intruduction\": RunnablePassthrough() }\n",
    "        | prompt_template2 \n",
    "        | llm \n",
    "        | StrOutputParser()\n",
    "    )\n",
    "    return chain.invoke(input)\n",
    "\n",
    "custom_chain.invoke({\"location\": \"郑州\"})"
   ]
  },
  {
   "cell_type": "markdown",
   "metadata": {},
   "source": [
    "## 调用方法\n",
    "Runnable对象提供多种调用方式:"
   ]
  },
  {
   "cell_type": "code",
   "execution_count": null,
   "metadata": {},
   "outputs": [],
   "source": [
    "# 同步调用\n",
    "result = chain.invoke({\"input\": \"query\"})\n",
    "\n",
    "# 流式调用\n",
    "for chunk in chain.stream({\"input\": \"query\"}):\n",
    "    print(chunk, end=\"\", flush=True)\n",
    "\n",
    "# 批量处理\n",
    "results = chain.batch([{\"input\": \"query1\"}, {\"input\": \"query2\"}])\n",
    "\n",
    "# 异步调用\n",
    "result = await chain.ainvoke({\"input\": \"query\"})"
   ]
  },
  {
   "cell_type": "markdown",
   "metadata": {},
   "source": [
    "## 配置与回调\n",
    "Runnable支持运行时配置:"
   ]
  },
  {
   "cell_type": "code",
   "execution_count": 11,
   "metadata": {},
   "outputs": [
    {
     "name": "stdout",
     "output_type": "stream",
     "text": [
      "使用低温度运行 - 更确定性的输出\n",
      "\n",
      " content='主角艾瑞克·星河，来自公元3125年，是一名天赋异禀的太空探险家。他身高1.9米，皮肤呈淡金色，双眼如星辰般闪烁着幽蓝光芒，额前有一道神秘的银色纹路，仿佛连接着宇宙的秘密。性格冷静而坚韧，内心却充满对未知的好奇与热情。\\n\\n艾瑞克的能力源于基因改造与量子意识融合，他能感知空间波动并预判航线，甚至短暂操控引力场。他曾是地球联邦最年轻的星际舰长，因一次意外穿越虫洞，失去了挚爱的舰队和家园。这次经历让他更加坚定探索宇宙的使命，寻找新的栖息地以避免人类灭绝的命运。他的旅程不仅是冒险，更是对自我救赎的追寻。' additional_kwargs={'refusal': None} response_metadata={'token_usage': {'completion_tokens': 167, 'prompt_tokens': 69, 'total_tokens': 236, 'completion_tokens_details': None, 'prompt_tokens_details': None}, 'model_name': 'qwen-turbo', 'system_fingerprint': None, 'id': 'chatcmpl-c41e9488-816f-9d23-ae7a-7835a60d36b5', 'finish_reason': 'stop', 'logprobs': None} id='run-0ace3bb1-3ffe-4384-aa7d-c20e1fd8a5b5-0' usage_metadata={'input_tokens': 69, 'output_tokens': 167, 'total_tokens': 236, 'input_token_details': {}, 'output_token_details': {}}\n",
      "\n",
      "\\使用高温度运行 - 更创造性和多样化的输出\n",
      "\n",
      " content='主角名为凯洛·星影，是一位来自公元3125年的太空探险家。他高挑修长，皮肤泛着微光的银灰色，双眼如深邃的黑洞，能散发蓝紫色光芒。冷静且富有智慧，他总能在危机中找到转机。\\n\\n凯洛拥有一种罕见的“时空共鸣”能力，能够感知过去与未来的一丝涟漪，并短暂操控时间流速。他的特殊技能源于一次穿越虫洞时遭遇的能量爆炸，那次事故不仅重塑了他的身体结构，也赋予了他超凡的认知力。\\n\\n他曾是星际联邦最年轻的舰队指挥官，却因拒绝执行可能摧毁文明的命令而被放逐。从此，他以独立探险者的身份穿梭宇宙，寻找平衡科技与伦理的答案。他的目标不仅是探索未知，更是守护那些即将消逝的文明之光。' additional_kwargs={'refusal': None} response_metadata={'token_usage': {'completion_tokens': 179, 'prompt_tokens': 69, 'total_tokens': 248, 'completion_tokens_details': None, 'prompt_tokens_details': None}, 'model_name': 'qwen-turbo', 'system_fingerprint': None, 'id': 'chatcmpl-ec794ea8-34fe-9897-9d64-91447d82ecc9', 'finish_reason': 'stop', 'logprobs': None} id='run-07cc1902-899b-492d-8e3f-22d9da531802-0' usage_metadata={'input_tokens': 69, 'output_tokens': 179, 'total_tokens': 248, 'input_token_details': {}, 'output_token_details': {}}\n"
     ]
    }
   ],
   "source": [
    "import os\n",
    "from langchain_openai import ChatOpenAI\n",
    "from langchain_core.output_parsers import StrOutputParser\n",
    "from langchain_core.prompts import ChatPromptTemplate\n",
    "from langchain.callbacks import StdOutCallbackHandler\n",
    "from langchain_core.runnables import ConfigurableField\n",
    "\n",
    "llm = ChatOpenAI(\n",
    "    model=\"qwen-turbo\", \n",
    "    api_key=os.getenv(\"API_KEY\"),\n",
    "    base_url=os.getenv(\"API_BASEURL\")\n",
    ").configurable_fields(\n",
    "    temperature=ConfigurableField(\n",
    "        id=\"temperature\",  # 配置标识符\n",
    "        name=\"Temperature\",\n",
    "        description=\"Controls randomness of the output. Higher values mean more randomness.\"\n",
    "    )\n",
    ")\n",
    "\n",
    "prompt = \"\"\"\n",
    "你是一位创意作家。请为一款名为'星际迷航者'的科幻游戏创作一个主角背景故事。\n",
    "这个角色是一位来自未来的太空探险家，拥有特殊能力。\n",
    "请详细描述角色的外貌、性格、特殊能力和人生经历。字数在200字左右。\n",
    "\"\"\"\n",
    "\n",
    "# 使用低温度运行 - 更确定性的输出\n",
    "result1 = llm.invoke(prompt, config={\n",
    "    \"configurable\": {\n",
    "        \"temperature\": 0.2\n",
    "    }\n",
    "})\n",
    "\n",
    "print(\"使用低温度运行 - 更确定性的输出\\n\\n\",result1)\n",
    "\n",
    "# 使用高温度运行 - 更创造性和多样化的输出\n",
    "result2 = llm.invoke(prompt, config={\n",
    "    \"configurable\": {\n",
    "        \"temperature\": 1.2\n",
    "    }\n",
    "})\n",
    "\n",
    "print(\"\\n\\使用高温度运行 - 更创造性和多样化的输出\\n\\n\",result2)\n",
    "\n",
    "# 配置回调\n",
    "result3 = llm.invoke(\"你好\", config={\"callbacks\": [StdOutCallbackHandler()]})"
   ]
  }
 ],
 "metadata": {
  "kernelspec": {
   "display_name": "base",
   "language": "python",
   "name": "python3"
  },
  "language_info": {
   "codemirror_mode": {
    "name": "ipython",
    "version": 3
   },
   "file_extension": ".py",
   "mimetype": "text/x-python",
   "name": "python",
   "nbconvert_exporter": "python",
   "pygments_lexer": "ipython3",
   "version": "3.12.3"
  }
 },
 "nbformat": 4,
 "nbformat_minor": 2
}
