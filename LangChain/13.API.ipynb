{
 "cells": [
  {
   "cell_type": "markdown",
   "metadata": {},
   "source": [
    "# 访问API"
   ]
  },
  {
   "cell_type": "code",
   "execution_count": 12,
   "metadata": {},
   "outputs": [
    {
     "name": "stdout",
     "output_type": "stream",
     "text": [
      "\n",
      "\n",
      "\u001b[1m> Entering new APIChain chain...\u001b[0m\n",
      "\u001b[32;1m\u001b[1;3mhttps://restcountries.com/v3.1/name/china\u001b[0m\n",
      "\u001b[33;1m\u001b[1;3m[{\"name\":{\"common\":\"Taiwan\",\"official\":\"Republic of China (Taiwan)\",\"nativeName\":{\"zho\":{\"official\":\"中華民國\",\"common\":\"台灣\"}}},\"tld\":[\".tw\",\".台灣\",\".台湾\"],\"cca2\":\"TW\",\"ccn3\":\"158\",\"cca3\":\"TWN\",\"cioc\":\"TPE\",\"independent\":false,\"status\":\"officially-assigned\",\"unMember\":false,\"currencies\":{\"TWD\":{\"name\":\"New Taiwan dollar\",\"symbol\":\"$\"}},\"idd\":{\"root\":\"+8\",\"suffixes\":[\"86\"]},\"capital\":[\"Taipei\"],\"altSpellings\":[\"TW\",\"Táiwān\",\"Republic of China\",\"中華民國\",\"Zhōnghuá Mínguó\",\"Chinese Taipei\"],\"region\":\"Asia\",\"subregion\":\"Eastern Asia\",\"languages\":{\"zho\":\"Chinese\"},\"translations\":{\"ara\":{\"official\":\"جمهورية الصين (تايوان)\",\"common\":\"تايوان\"},\"bre\":{\"official\":\"Republik Sina (Taiwan)\",\"common\":\"Taiwan\"},\"ces\":{\"official\":\"Čínská republika\",\"common\":\"Tchaj-wan\"},\"cym\":{\"official\":\"Republic of China (Taiwan)\",\"common\":\"Taiwan\"},\"deu\":{\"official\":\"Republik China (Taiwan)\",\"common\":\"Taiwan\"},\"est\":{\"official\":\"Taiwani\",\"common\":\"Taiwan\"},\"fin\":{\"official\":\"Kiinan tasavalta\",\"common\":\"Taiwan\"},\"fra\":{\"official\":\"République de Chine (Taïwan)\",\"common\":\"Taïwan\"},\"hrv\":{\"official\":\"Republika Kina\",\"common\":\"Tajvan\"},\"hun\":{\"official\":\"Kínai Köztársaság\",\"common\":\"Tajvan\"},\"ita\":{\"official\":\"Repubblica cinese (Taiwan)\",\"common\":\"Taiwan\"},\"jpn\":{\"official\":\"中華民国\",\"common\":\"台湾\"},\"kor\":{\"official\":\"중화민국\",\"common\":\"대만\"},\"nld\":{\"official\":\"Republiek China (Taiwan)\",\"common\":\"Taiwan\"},\"per\":{\"official\":\"جمهوری چین\",\"common\":\"تایوان\"},\"pol\":{\"official\":\"Republika Chińska (Tajwan)\",\"common\":\"Tajwan\"},\"por\":{\"official\":\"República da China\",\"common\":\"Ilha Formosa\"},\"rus\":{\"official\":\"Китайская Республика\",\"common\":\"Тайвань\"},\"slk\":{\"official\":\"Čínska republika\",\"common\":\"Taiwan\"},\"spa\":{\"official\":\"República de China en Taiwán\",\"common\":\"Taiwán\"},\"srp\":{\"official\":\"Република Кина\",\"common\":\"Тајван\"},\"swe\":{\"official\":\"Republiken Kina\",\"common\":\"Taiwan\"},\"tur\":{\"official\":\"Çin Cumhuriyeti (Tayvan)\",\"common\":\"Tayvan\"},\"urd\":{\"official\":\"جمہوریہ چین (تائیوان)\",\"common\":\"تائیوان\"}},\"latlng\":[23.5,121.0],\"landlocked\":false,\"area\":36193.0,\"demonyms\":{\"eng\":{\"f\":\"Taiwanese\",\"m\":\"Taiwanese\"},\"fra\":{\"f\":\"Taïwanaise\",\"m\":\"Taïwanais\"}},\"flag\":\"\\uD83C\\uDDF9\\uD83C\\uDDFC\",\"maps\":{\"googleMaps\":\"https://goo.gl/maps/HgMKFQjNadF3Wa6B6\",\"openStreetMaps\":\"https://www.openstreetmap.org/relation/449220\"},\"population\":23503349,\"fifa\":\"TPE\",\"car\":{\"signs\":[\"RC\"],\"side\":\"right\"},\"timezones\":[\"UTC+08:00\"],\"continents\":[\"Asia\"],\"flags\":{\"png\":\"https://flagcdn.com/w320/tw.png\",\"svg\":\"https://flagcdn.com/tw.svg\"},\"coatOfArms\":{\"png\":\"https://mainfacts.com/media/images/coats_of_arms/tw.png\",\"svg\":\"https://mainfacts.com/media/images/coats_of_arms/tw.svg\"},\"startOfWeek\":\"monday\",\"capitalInfo\":{\"latlng\":[25.03,121.52]},\"postalCode\":{\"format\":\"#####\",\"regex\":\"^(\\\\d{5})$\"}},{\"name\":{\"common\":\"Hong Kong\",\"official\":\"Hong Kong Special Administrative Region of the People's Republic of China\",\"nativeName\":{\"eng\":{\"official\":\"Hong Kong Special Administrative Region of the People's Republic of China\",\"common\":\"Hong Kong\"},\"zho\":{\"official\":\"中华人民共和国香港特别行政区\",\"common\":\"香港\"}}},\"tld\":[\".hk\",\".香港\"],\"cca2\":\"HK\",\"ccn3\":\"344\",\"cca3\":\"HKG\",\"cioc\":\"HKG\",\"independent\":false,\"status\":\"officially-assigned\",\"unMember\":false,\"currencies\":{\"HKD\":{\"name\":\"Hong Kong dollar\",\"symbol\":\"$\"}},\"idd\":{\"root\":\"+8\",\"suffixes\":[\"52\"]},\"capital\":[\"City of Victoria\"],\"altSpellings\":[\"HK\"],\"region\":\"Asia\",\"subregion\":\"Eastern Asia\",\"languages\":{\"eng\":\"English\",\"zho\":\"Chinese\"},\"translations\":{\"ara\":{\"official\":\"منطقة هونغ كونغ الادارية التابعة لجمهورية الصين الشعبية\",\"common\":\"هونغ كونغ\"},\"bre\":{\"official\":\"Rannvro velestradurel arbennik Hong Kong eus Republik pobl Sina\",\"common\":\"Hong Kong\"},\"ces\":{\"official\":\"Zvláštní administrativní oblast Čínské lidové republiky Hongkong\",\"common\":\"Hongkong\"},\"cym\":{\"official\":\"Hong Kong Special Administrative Region of the People's Republic of China\",\"common\":\"Hong Kong\"},\"deu\":{\"official\":\"Sonderverwaltungszone Hongkong der Volksrepublik China\",\"common\":\"Hongkong\"},\"est\":{\"official\":\"Hongkongi erihalduspiirkond\",\"common\":\"Hongkong\"},\"fin\":{\"official\":\"Hong Kongin erityishallintoalue\",\"common\":\"Hongkong\"},\"fra\":{\"official\":\"Région administrative spéciale de Hong Kong de la République populaire de Chine\",\"common\":\"Hong Kong\"},\"hrv\":{\"official\":\"Hong Kong Posebnog upravnog područjaNarodne Republike Kine\",\"common\":\"Hong Kong\"},\"hun\":{\"official\":\"Hongkong\",\"common\":\"Hongkong\"},\"ita\":{\"official\":\"Hong Kong Regione amministrativa speciale della Repubblica Popolare Cinese\",\"common\":\"Hong Kong\"},\"jpn\":{\"official\":\"中華人民共和国香港特別行政区\",\"common\":\"香港\"},\"kor\":{\"official\":\"중화인민공화국 홍콩 특별행정구\",\"common\":\"홍콩\"},\"nld\":{\"official\":\"Hong Kong Speciale Administratieve Regio van de Volksrepubliek China\",\"common\":\"Hongkong\"},\"per\":{\"official\":\"هُنگ کُنگ\",\"common\":\"هُنگ کُنگ\"},\"pol\":{\"official\":\"Specjalny Region Administracyjny Chińskiej Republiki Ludowej Hongkong\",\"common\":\"Hongkong\"},\"por\":{\"official\":\"Hong Kong Região Administrativa Especial da República Popular da China\",\"common\":\"Hong Kong\"},\"rus\":{\"official\":\"Hong Kong Специальный административный район Китайской Народной Республики Китая\",\"common\":\"Гонконг\"},\"slk\":{\"official\":\"Špeciálna administratívna oblasťČínskej ľudovej republiky Hongkong\",\"common\":\"Hongkong\"},\"spa\":{\"official\":\"Hong Kong Región Administrativa Especial de la República Popular China\",\"common\":\"Hong Kong\"},\"srp\":{\"official\":\"Хонгконг специјална административна област Народне Републике Кине\",\"common\":\"Хонгконг\"},\"swe\":{\"official\":\"Hongkong\",\"common\":\"Hongkong\"},\"tur\":{\"official\":\"Çin Halk Cumhuriyeti Hong Kong Özel İdari Bölgesi\",\"common\":\"Hong Kong\"},\"urd\":{\"official\":\"ہانگ کانگ عوامی جمہوریہ چین کا خصوصی انتظامی علاقہ\",\"common\":\"ہانگ کانگ\"}},\"latlng\":[22.267,114.188],\"landlocked\":false,\"borders\":[\"CHN\"],\"area\":1104.0,\"demonyms\":{\"eng\":{\"f\":\"Hong Konger\",\"m\":\"Hong Konger\"},\"fra\":{\"f\":\"Hongkongaise\",\"m\":\"Hongkongais\"}},\"flag\":\"\\uD83C\\uDDED\\uD83C\\uDDF0\",\"maps\":{\"googleMaps\":\"https://goo.gl/maps/1sEnNmT47ffrC8MU8\",\"openStreetMaps\":\"https://www.openstreetmap.org/relation/913110\"},\"population\":7500700,\"fifa\":\"HKG\",\"car\":{\"signs\":[\"HK\"],\"side\":\"left\"},\"timezones\":[\"UTC+08:00\"],\"continents\":[\"Asia\"],\"flags\":{\"png\":\"https://flagcdn.com/w320/hk.png\",\"svg\":\"https://flagcdn.com/hk.svg\"},\"coatOfArms\":{\"png\":\"https://mainfacts.com/media/images/coats_of_arms/hk.png\",\"svg\":\"https://mainfacts.com/media/images/coats_of_arms/hk.svg\"},\"startOfWeek\":\"monday\",\"capitalInfo\":{\"latlng\":[22.267,114.188]}},{\"name\":{\"common\":\"China\",\"official\":\"People's Republic of China\",\"nativeName\":{\"zho\":{\"official\":\"中华人民共和国\",\"common\":\"中国\"}}},\"tld\":[\".cn\",\".中国\",\".中國\",\".公司\",\".网络\"],\"cca2\":\"CN\",\"ccn3\":\"156\",\"cca3\":\"CHN\",\"cioc\":\"CHN\",\"independent\":true,\"status\":\"officially-assigned\",\"unMember\":true,\"currencies\":{\"CNY\":{\"name\":\"Chinese yuan\",\"symbol\":\"¥\"}},\"idd\":{\"root\":\"+8\",\"suffixes\":[\"6\"]},\"capital\":[\"Beijing\"],\"altSpellings\":[\"CN\",\"Zhōngguó\",\"Zhongguo\",\"Zhonghua\",\"People's Republic of China\",\"中华人民共和国\",\"Zhōnghuá Rénmín Gònghéguó\"],\"region\":\"Asia\",\"subregion\":\"Eastern Asia\",\"languages\":{\"zho\":\"Chinese\"},\"translations\":{\"ara\":{\"official\":\"جمهورية الصين الشعبية\",\"common\":\"الصين\"},\"bre\":{\"official\":\"Republik Pobl Sina\",\"common\":\"Sina\"},\"ces\":{\"official\":\"Čínská lidová republika\",\"common\":\"Čína\"},\"cym\":{\"official\":\"Gweriniaeth Pobl Tsieina\",\"common\":\"Tsieina\"},\"deu\":{\"official\":\"Volksrepublik China\",\"common\":\"China\"},\"est\":{\"official\":\"Hiina Rahvavabariik\",\"common\":\"Hiina\"},\"fin\":{\"official\":\"Kiinan kansantasavalta\",\"common\":\"Kiina\"},\"fra\":{\"official\":\"République populaire de Chine\",\"common\":\"Chine\"},\"hrv\":{\"official\":\"Narodna Republika Kina\",\"common\":\"Kina\"},\"hun\":{\"official\":\"Kínai Népköztársaság\",\"common\":\"Kína\"},\"ita\":{\"official\":\"Repubblica popolare cinese\",\"common\":\"Cina\"},\"jpn\":{\"official\":\"中華人民共和国\",\"common\":\"中国\"},\"kor\":{\"official\":\"중화인민공화국\",\"common\":\"중국\"},\"nld\":{\"official\":\"Volksrepubliek China\",\"common\":\"China\"},\"per\":{\"official\":\"جمهوری خلق چین\",\"common\":\"چین\"},\"pol\":{\"official\":\"Chińska Republika Ludowa\",\"common\":\"Chiny\"},\"por\":{\"official\":\"República Popular da China\",\"common\":\"China\"},\"rus\":{\"official\":\"Народная Республика Китай\",\"common\":\"Китай\"},\"slk\":{\"official\":\"Čínska ľudová republika\",\"common\":\"Čína\"},\"spa\":{\"official\":\"República Popular de China\",\"common\":\"China\"},\"srp\":{\"official\":\"Народна Република Кина\",\"common\":\"Кина\"},\"swe\":{\"official\":\"Folkrepubliken Kina\",\"common\":\"Kina\"},\"tur\":{\"official\":\"Çin Halk Cumhuriyeti\",\"common\":\"Çin\"},\"urd\":{\"official\":\"عوامی جمہوریہ چین\",\"common\":\"چین\"}},\"latlng\":[35.0,105.0],\"landlocked\":false,\"borders\":[\"AFG\",\"BTN\",\"MMR\",\"HKG\",\"IND\",\"KAZ\",\"NPL\",\"PRK\",\"KGZ\",\"LAO\",\"MAC\",\"MNG\",\"PAK\",\"RUS\",\"TJK\",\"VNM\"],\"area\":9706961.0,\"demonyms\":{\"eng\":{\"f\":\"Chinese\",\"m\":\"Chinese\"},\"fra\":{\"f\":\"Chinoise\",\"m\":\"Chinois\"}},\"flag\":\"\\uD83C\\uDDE8\\uD83C\\uDDF3\",\"maps\":{\"googleMaps\":\"https://goo.gl/maps/p9qC6vgiFRRXzvGi7\",\"openStreetMaps\":\"https://www.openstreetmap.org/relation/270056\"},\"population\":1402112000,\"gini\":{\"2016\":38.5},\"fifa\":\"CHN\",\"car\":{\"signs\":[\"RC\"],\"side\":\"right\"},\"timezones\":[\"UTC+08:00\"],\"continents\":[\"Asia\"],\"flags\":{\"png\":\"https://flagcdn.com/w320/cn.png\",\"svg\":\"https://flagcdn.com/cn.svg\",\"alt\":\"The flag of China has a red field. In the canton are five yellow five-pointed stars — a large star and four smaller stars arranged in a vertical arc on the fly side of the large star.\"},\"coatOfArms\":{\"png\":\"https://mainfacts.com/media/images/coats_of_arms/cn.png\",\"svg\":\"https://mainfacts.com/media/images/coats_of_arms/cn.svg\"},\"startOfWeek\":\"monday\",\"capitalInfo\":{\"latlng\":[39.92,116.38]},\"postalCode\":{\"format\":\"######\",\"regex\":\"^(\\\\d{6})$\"}},{\"name\":{\"common\":\"Macau\",\"official\":\"Macao Special Administrative Region of the People's Republic of China\",\"nativeName\":{\"por\":{\"official\":\"Região Administrativa Especial de Macau da República Popular da China\",\"common\":\"Macau\"},\"zho\":{\"official\":\"中华人民共和国澳门特别行政区\",\"common\":\"澳门\"}}},\"tld\":[\".mo\"],\"cca2\":\"MO\",\"ccn3\":\"446\",\"cca3\":\"MAC\",\"independent\":false,\"status\":\"officially-assigned\",\"unMember\":false,\"currencies\":{\"MOP\":{\"name\":\"Macanese pataca\",\"symbol\":\"P\"}},\"idd\":{\"root\":\"+8\",\"suffixes\":[\"53\"]},\"altSpellings\":[\"MO\",\"澳门\",\"Macao\",\"Macao Special Administrative Region of the People's Republic of China\",\"中華人民共和國澳門特別行政區\",\"Região Administrativa Especial de Macau da República Popular da China\"],\"region\":\"Asia\",\"subregion\":\"Eastern Asia\",\"languages\":{\"por\":\"Portuguese\",\"zho\":\"Chinese\"},\"translations\":{\"ara\":{\"official\":\"منطقة ماكاو الإدارية التابعة لجمهورية الصين الشعبية\",\"common\":\"ماكاو\"},\"bre\":{\"official\":\"Rannvro velestradurel arbennik Makao eus Republik pobl Sina\",\"common\":\"Makao\"},\"ces\":{\"official\":\"Zvláštní správní oblast Čínské lidové republiky Macao\",\"common\":\"Macao\"},\"cym\":{\"official\":\"Macao Special Administrative Region of the People's Republic of China\",\"common\":\"Macau\"},\"deu\":{\"official\":\"Sonderverwaltungsregion Macau der Volksrepublik China\",\"common\":\"Macao\"},\"est\":{\"official\":\"Macau erihalduspiirkond\",\"common\":\"Macau\"},\"fin\":{\"official\":\"Macaon Kiinan kansantasavallan erityishallintoalue\",\"common\":\"Macao\"},\"fra\":{\"official\":\"Région administrative spéciale de Macao de la République populaire de Chine\",\"common\":\"Macao\"},\"hrv\":{\"official\":\"Makao Posebnog upravnog područjaNarodne Republike Kine\",\"common\":\"Makao\"},\"hun\":{\"official\":\"Makaó\",\"common\":\"Makaó\"},\"ita\":{\"official\":\"Macao Regione amministrativa speciale della Repubblica Popolare Cinese\",\"common\":\"Macao\"},\"jpn\":{\"official\":\"中華人民共和国マカオ特別行政区\",\"common\":\"マカオ\"},\"kor\":{\"official\":\"중화인민공화국 마카오 특별행정구\",\"common\":\"마카오\"},\"nld\":{\"official\":\"Speciale Administratieve Regio Macau van de Volksrepubliek China\",\"common\":\"Macao\"},\"per\":{\"official\":\"ماکائو\",\"common\":\"ماکائو\"},\"pol\":{\"official\":\"Specjalny Region Administracyjny Chińskiej Republiki Ludowej Makau\",\"common\":\"Makau\"},\"por\":{\"official\":\"Macau Região Administrativa Especial da República Popular da China\",\"common\":\"Macau\"},\"rus\":{\"official\":\"Специальный административный район Макао Китайской Народной Республики Китай\",\"common\":\"Макао\"},\"slk\":{\"official\":\"Macao, Špeciàlna administratívna oblasŦ\",\"common\":\"Macao\"},\"spa\":{\"official\":\"Macao, Región Administrativa Especial de la República Popular China\",\"common\":\"Macao\"},\"srp\":{\"official\":\"Макао специјална административна област Народне Републике Кине\",\"common\":\"Макао\"},\"swe\":{\"official\":\"Macao\",\"common\":\"Macao\"},\"tur\":{\"official\":\"Çin Halk Cumhuriyeti Makao Özel İdari Bölgesi\",\"common\":\"Makao\"},\"urd\":{\"official\":\"مکاؤ عوامی جمہوریہ چین کا خصوصی انتظامی علاقہ\",\"common\":\"مکاؤ\"}},\"latlng\":[22.16666666,113.55],\"landlocked\":false,\"borders\":[\"CHN\"],\"area\":30.0,\"demonyms\":{\"eng\":{\"f\":\"Macanese\",\"m\":\"Macanese\"},\"fra\":{\"f\":\"Macanaise\",\"m\":\"Macanais\"}},\"flag\":\"\\uD83C\\uDDF2\\uD83C\\uDDF4\",\"maps\":{\"googleMaps\":\"https://goo.gl/maps/whymRdk3dZFfAAs4A\",\"openStreetMaps\":\"https://www.openstreetmap.org/relation/1867188\"},\"population\":649342,\"fifa\":\"MAC\",\"car\":{\"signs\":[\"MO\"],\"side\":\"left\"},\"timezones\":[\"UTC+08:00\"],\"continents\":[\"Asia\"],\"flags\":{\"png\":\"https://flagcdn.com/w320/mo.png\",\"svg\":\"https://flagcdn.com/mo.svg\"},\"coatOfArms\":{\"png\":\"https://mainfacts.com/media/images/coats_of_arms/mo.png\",\"svg\":\"https://mainfacts.com/media/images/coats_of_arms/mo.svg\"},\"startOfWeek\":\"monday\",\"capitalInfo\":{}}]\u001b[0m\n",
      "\n",
      "\u001b[1m> Finished chain.\u001b[0m\n"
     ]
    },
    {
     "data": {
      "text/plain": [
       "'中国位于亚洲，首都是北京。'"
      ]
     },
     "execution_count": 12,
     "metadata": {},
     "output_type": "execute_result"
    }
   ],
   "source": [
    "from langchain.chains import APIChain\n",
    "import json\n",
    "import os\n",
    "from langchain_openai import ChatOpenAI\n",
    "from langchain.schema import HumanMessage,SystemMessage,AIMessage \n",
    "\n",
    "# 读取配置文件\n",
    "with open(\"config.json\", \"r\") as f:\n",
    "    config = json.load(f)\n",
    "    api_key = config[\"api_key\"]\n",
    "\n",
    "# 设置环境变量\n",
    "os.environ[\"OPENAI_API_KEY\"] = config[\"api_key\"]\n",
    "os.environ[\"OPENAI_API_BASE\"] = config[\"api_base\"]\n",
    "\n",
    "# 创建 OpenAI 客户端\n",
    "llm = ChatOpenAI(model=config[\"qwen_model\"])\n",
    "\n",
    "api_docs  = \"\"\"\n",
    "BASE URL: https://restcountries.com/v3.1\n",
    "\n",
    "API Documentation:\n",
    "This API provides information about countries around the world.\n",
    "\n",
    "Endpoints:\n",
    "\n",
    "1. GET /all\n",
    "   Returns information about all countries.\n",
    "   Example: https://restcountries.com/v3.1/all\n",
    "\n",
    "2. GET /name/{name}\n",
    "   Returns information about countries by name.\n",
    "   Example: https://restcountries.com/v3.1/name/france\n",
    "\n",
    "3. GET /capital/{capital}\n",
    "   Returns information about countries by capital city.\n",
    "   Example: https://restcountries.com/v3.1/capital/paris\n",
    "\n",
    "4. GET /region/{region}\n",
    "   Returns information about countries by region.\n",
    "   Regions: Africa, Americas, Asia, Europe, Oceania\n",
    "   Example: https://restcountries.com/v3.1/region/europe\n",
    "\n",
    "5. GET /currency/{currency}\n",
    "   Returns information about countries by currency code.\n",
    "   Example: https://restcountries.com/v3.1/currency/eur\n",
    "\n",
    "6. GET /lang/{language}\n",
    "   Returns information about countries by language code.\n",
    "   Example: https://restcountries.com/v3.1/lang/fr\n",
    "\n",
    "7. GET /alpha/{code}\n",
    "   Returns information about countries by their 2 or 3 letter country code.\n",
    "   Example: https://restcountries.com/v3.1/alpha/fr\n",
    "\n",
    "All endpoints return data in JSON format with details about the countries including:\n",
    "- Name\n",
    "- Capital\n",
    "- Region\n",
    "- Subregion\n",
    "- Population\n",
    "- Currencies\n",
    "- Languages\n",
    "- Flag\n",
    "- Borders\n",
    "- And more...\n",
    "\n",
    "No authentication is required to use this API.\n",
    "\"\"\"\n",
    "\n",
    "chain = APIChain.from_llm_and_api_docs(llm, api_docs,verbose=True,limit_to_domains = None)\n",
    "\n",
    "chain.run(\"中国在哪个洲，首都是哪里\")\n",
    "\n"
   ]
  }
 ],
 "metadata": {
  "kernelspec": {
   "display_name": "Python (Anaconda)",
   "language": "python",
   "name": "anaconda"
  },
  "language_info": {
   "codemirror_mode": {
    "name": "ipython",
    "version": 3
   },
   "file_extension": ".py",
   "mimetype": "text/x-python",
   "name": "python",
   "nbconvert_exporter": "python",
   "pygments_lexer": "ipython3",
   "version": "3.12.3"
  }
 },
 "nbformat": 4,
 "nbformat_minor": 2
}
