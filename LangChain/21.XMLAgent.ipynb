{
 "cells": [
  {
   "cell_type": "markdown",
   "metadata": {},
   "source": [
    "# XMLAgent 示例\n",
    "\n",
    "这个笔记本展示了如何使用LangChain的XMLAgent创建一个天气查询助手。\n",
    "\n",
    "## 主要功能\n",
    "- 使用自定义工具(GetWeather)获取城市天气信息\n",
    "- 利用XML格式的Agent提示模板处理用户查询\n",
    "- 通过心知天气API获取实时天气数据\n",
    "\n",
    "## 使用方法\n",
    "1. 确保设置了必要的环境变量(API_KEY, API_BASEURL)\n",
    "2. 运行代码即可通过输入城市名查询天气状况\n",
    "3. 可以根据需要扩展其他工具功能\n",
    "\n",
    "这个示例展示了如何将外部API与LLM结合，构建实用的应用程序。"
   ]
  },
  {
   "cell_type": "code",
   "execution_count": 2,
   "metadata": {},
   "outputs": [
    {
     "name": "stderr",
     "output_type": "stream",
     "text": [
      "d:\\Anaconda\\Lib\\site-packages\\langsmith\\client.py:256: LangSmithMissingAPIKeyWarning: API key must be provided when using hosted LangSmith API\n",
      "  warnings.warn(\n"
     ]
    },
    {
     "name": "stdout",
     "output_type": "stream",
     "text": [
      "\n",
      "\n",
      "\u001b[1m> Entering new AgentExecutor chain...\u001b[0m\n",
      "\u001b[32;1m\u001b[1;3m<tool>GetWeather</tool><tool_input>深圳\u001b[0mAPI返回的结果：{'results': [{'location': {'id': 'WS10730EM8EV', 'name': '深圳', 'country': 'CN', 'path': '深圳,深圳,广东,中国', 'timezone': 'Asia/Shanghai', 'timezone_offset': '+08:00'}, 'now': {'text': '多云', 'code': '4', 'temperature': '25'}, 'last_update': '2025-04-15T20:36:13+08:00'}]}\n",
      "\u001b[36;1m\u001b[1;3m{'text': '多云', 'temperature': '25'}\u001b[0m\u001b[32;1m\u001b[1;3m<final_answer>深圳的天气是多云，温度为25摄氏度。</final_answer>\u001b[0m\n",
      "\n",
      "\u001b[1m> Finished chain.\u001b[0m\n"
     ]
    },
    {
     "data": {
      "text/plain": [
       "{'input': '深圳的天气怎么样？', 'output': '深圳的天气是多云，温度为25摄氏度。'}"
      ]
     },
     "execution_count": 2,
     "metadata": {},
     "output_type": "execute_result"
    }
   ],
   "source": [
    "import requests\n",
    "import os\n",
    "from langchain.tools import BaseTool\n",
    "from typing import Any,ClassVar\n",
    "from langchain import hub\n",
    "from langchain.agents import AgentExecutor,create_xml_agent\n",
    "from langchain_openai import ChatOpenAI\n",
    "\n",
    "# 定义工具——查询天气\n",
    "class GetWeather(BaseTool):\n",
    "    \"\"\"\n",
    "    查询天气API\n",
    "    name: 工具名称\n",
    "    description:工具描述    \n",
    "    \"\"\"\n",
    "    name : ClassVar[str] = \"GetWeather\"\n",
    "    description : ClassVar[str] = \"根据城市名称获取天气数据\"\n",
    "    \n",
    "    def __init__(self):\n",
    "        super().__init__()\n",
    "    \n",
    "    def get_weather(self,location):\n",
    "        api_key = \"SqRLyH57b4IUtiH1W\"\n",
    "        url = f\"https://api.seniverse.com/v3/weather/now.json?key={api_key}&location={location}&language=zh-Hans&unit=c\"\n",
    "        response = requests.get(url)\n",
    "        if response.status_code == 200:\n",
    "            data = response.json()\n",
    "            print(f\"API返回的结果：{data}\")\n",
    "            # 这里定义返回结构\n",
    "            weather = {\n",
    "                \"text\" : data[\"results\"][0][\"now\"][\"text\"],\n",
    "                \"temperature\" :data[\"results\"][0][\"now\"][\"temperature\"]\n",
    "            }\n",
    "            return weather\n",
    "        else:\n",
    "            raise Exception(f\"天气API调用失败：{response.status_code}\")\n",
    "    \n",
    "    def _run(self, location):\n",
    "        return self.get_weather(location=location)\n",
    "        \n",
    "weatherTool = GetWeather()\n",
    "\n",
    "#weatherTool.run({\"location\" : \"深圳\"})\n",
    "\n",
    "# 定义llm\n",
    "llm = ChatOpenAI(\n",
    "    model= \"qwen-turbo\",\n",
    "    api_key=os.getenv(\"API_KEY\"),\n",
    "    base_url=os.getenv(\"API_BASEURL\"),\n",
    ")\n",
    "\n",
    "# 从hub获取提示词\n",
    "prompt = hub.pull(\"hwchase17/xml-agent-convo\")\n",
    "\n",
    "# 定义工具列表\n",
    "tools = [weatherTool]\n",
    "\n",
    "# 创建智能体\n",
    "agent = create_xml_agent(\n",
    "    llm = llm,\n",
    "    tools = tools,\n",
    "    prompt = prompt\n",
    ")\n",
    "\n",
    "# 执行智能体\n",
    "agentExecutor = AgentExecutor(agent=agent, tools=tools, verbose=True)\n",
    "\n",
    "agentExecutor.invoke({\"input\" : \"深圳的天气怎么样？\"})\n",
    "\n"
   ]
  }
 ],
 "metadata": {
  "kernelspec": {
   "display_name": "Python (Anaconda)",
   "language": "python",
   "name": "anaconda"
  },
  "language_info": {
   "codemirror_mode": {
    "name": "ipython",
    "version": 3
   },
   "file_extension": ".py",
   "mimetype": "text/x-python",
   "name": "python",
   "nbconvert_exporter": "python",
   "pygments_lexer": "ipython3",
   "version": "3.12.3"
  }
 },
 "nbformat": 4,
 "nbformat_minor": 2
}
