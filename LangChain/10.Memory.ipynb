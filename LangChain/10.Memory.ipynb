{
 "cells": [
  {
   "cell_type": "markdown",
   "metadata": {},
   "source": [
    "# 记忆功能\n",
    "SimpleMemory 是 LangChain 中最基础的记忆组件之一，它可以存储和检索键值对形式的信息。"
   ]
  },
  {
   "cell_type": "code",
   "execution_count": 12,
   "metadata": {},
   "outputs": [
    {
     "name": "stdout",
     "output_type": "stream",
     "text": [
      "content='根据提供的信息，Alice最喜欢的颜色是蓝色（blue）。' additional_kwargs={'refusal': None} response_metadata={'token_usage': {'completion_tokens': 217, 'prompt_tokens': 26, 'total_tokens': 243, 'completion_tokens_details': None, 'prompt_tokens_details': None}, 'model_name': 'deepseek-r1', 'system_fingerprint': None, 'id': 'chatcmpl-a48b0037-5fc5-9cde-b069-c000c2714b0d', 'finish_reason': 'stop', 'logprobs': None} id='run-b66e7d91-bbc6-45cd-a45a-e5af38fb538a-0' usage_metadata={'input_tokens': 26, 'output_tokens': 217, 'total_tokens': 243, 'input_token_details': {}, 'output_token_details': {}}\n"
     ]
    }
   ],
   "source": [
    "import os\n",
    "from langchain.memory import SimpleMemory\n",
    "from langchain_openai import ChatOpenAI\n",
    "from langchain.prompts import PromptTemplate\n",
    "from langchain.schema.runnable import RunnablePassthrough\n",
    "\n",
    "# 创建一个 SimpleMemory 实例\n",
    "memory = SimpleMemory(memories={\n",
    "    \"person_name\": \"Alice\",\n",
    "    \"favorite_color\": \"blue\"\n",
    "})\n",
    "\n",
    "# 创建一个提示模板\n",
    "template = \"\"\"\n",
    "根据以下信息回答问题:\n",
    "人名: {person_name}\n",
    "最喜欢的颜色: {favorite_color}\n",
    "\n",
    "问题: {question}\n",
    "\"\"\"\n",
    "\n",
    "prompt = PromptTemplate(\n",
    "    input_variables=[\"question\"],\n",
    "    template=template\n",
    ")\n",
    "\n",
    "# 创建 LLM\n",
    "llm = ChatOpenAI(\n",
    "    model = \"deepseek-r1\",\n",
    "    api_key = os.environ[\"API_KEY\"],\n",
    "    base_url=os.environ[\"API_BASEURL\"]\n",
    ")\n",
    "\n",
    "# 创建一个函数来合并 memory 和输入\n",
    "def merge_memory(input_dict):\n",
    "    return {\n",
    "        **input_dict,\n",
    "        **memory.memories\n",
    "    }\n",
    "\n",
    "# 创建 Chain，并将 memory 传入\n",
    "chain = (\n",
    "RunnablePassthrough()|\n",
    "merge_memory|\n",
    "prompt|\n",
    "llm\n",
    ")\n",
    "\n",
    "# 使用 chain\n",
    "response = chain.invoke({\"question\": \"这个人最喜欢什么颜色？\"})\n",
    "print(response)"
   ]
  }
 ],
 "metadata": {
  "kernelspec": {
   "display_name": "Python (Anaconda)",
   "language": "python",
   "name": "anaconda"
  },
  "language_info": {
   "codemirror_mode": {
    "name": "ipython",
    "version": 3
   },
   "file_extension": ".py",
   "mimetype": "text/x-python",
   "name": "python",
   "nbconvert_exporter": "python",
   "pygments_lexer": "ipython3",
   "version": "3.12.3"
  }
 },
 "nbformat": 4,
 "nbformat_minor": 2
}
