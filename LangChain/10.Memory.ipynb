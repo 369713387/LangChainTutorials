{
 "cells": [
  {
   "cell_type": "markdown",
   "metadata": {},
   "source": [
    "# LangChain 中的储存(Memory)模块\n",
    "LangChain 提供了多种储存类型。其中，缓冲区储存允许保留最近的聊天消息，摘要储存则提供了对整个对话的摘要。实体储存则允许在多轮对话中保留有关特定实体的信息。这些记忆组件都是模块化的，可与其他组件组合使用，从而增强机器人的对话管理能力。储存模块可以通过简单的 API 调用来访问和更新，允许开发人员更轻松地实现对话历史记录的管理和维护。\n",
    "\n",
    "该文档主要介绍两种存储模块\n",
    "- 对话缓存储存 (ConversationBufferMemory）\n",
    "- 对话缓存窗口储存 (ConversationBufferWindowMemory）\n",
    "\n",
    "在 LangChain 中，储存指的是大语言模型（LLM）的短期记忆，仅在当次对话中进行存储。"
   ]
  },
  {
   "cell_type": "markdown",
   "metadata": {},
   "source": [
    "## 对话缓存存储\n",
    "进行多轮对话"
   ]
  },
  {
   "cell_type": "code",
   "execution_count": 4,
   "metadata": {},
   "outputs": [
    {
     "name": "stdout",
     "output_type": "stream",
     "text": [
      "\n",
      "\n",
      "\u001b[1m> Entering new ConversationChain chain...\u001b[0m\n",
      "Prompt after formatting:\n",
      "\u001b[32;1m\u001b[1;3mThe following is a friendly conversation between a human and an AI. The AI is talkative and provides lots of specific details from its context. If the AI does not know the answer to a question, it truthfully says it does not know.\n",
      "\n",
      "Current conversation:\n",
      "\n",
      "Human: 你好，我是呱呱蛙。\n",
      "AI:\u001b[0m\n",
      "\n",
      "\u001b[1m> Finished chain.\u001b[0m\n",
      "对话内容：你好，我是呱呱蛙。\n",
      "对话回复：你好呱呱蛙！很高兴认识你。我是通义千问，你可以叫我Qwen。我是一个大型语言模型，能够帮助你回答问题、创作文字，如写故事、公文、技术文档等，还能表达观点，玩游戏等。如果你有任何问题或需要帮助，尽管告诉我哦！你今天过得怎么样？\n",
      "\n",
      "\n",
      "\u001b[1m> Entering new ConversationChain chain...\u001b[0m\n",
      "Prompt after formatting:\n",
      "\u001b[32;1m\u001b[1;3mThe following is a friendly conversation between a human and an AI. The AI is talkative and provides lots of specific details from its context. If the AI does not know the answer to a question, it truthfully says it does not know.\n",
      "\n",
      "Current conversation:\n",
      "Human: 你好，我是呱呱蛙。\n",
      "AI: 你好呱呱蛙！很高兴认识你。我是通义千问，你可以叫我Qwen。我是一个大型语言模型，能够帮助你回答问题、创作文字，如写故事、公文、技术文档等，还能表达观点，玩游戏等。如果你有任何问题或需要帮助，尽管告诉我哦！你今天过得怎么样？\n",
      "Human: 你认识成龙吗？ 说一部他出演的电影。 只说电影名，不要说其他内容。\n",
      "AI:\u001b[0m\n",
      "\n",
      "\u001b[1m> Finished chain.\u001b[0m\n",
      "对话内容：你认识成龙吗？ 说一部他出演的电影。 只说电影名，不要说其他内容。\n",
      "对话回复：《醉拳》\n",
      "\n",
      "\n",
      "\u001b[1m> Entering new ConversationChain chain...\u001b[0m\n",
      "Prompt after formatting:\n",
      "\u001b[32;1m\u001b[1;3mThe following is a friendly conversation between a human and an AI. The AI is talkative and provides lots of specific details from its context. If the AI does not know the answer to a question, it truthfully says it does not know.\n",
      "\n",
      "Current conversation:\n",
      "Human: 你好，我是呱呱蛙。\n",
      "AI: 你好呱呱蛙！很高兴认识你。我是通义千问，你可以叫我Qwen。我是一个大型语言模型，能够帮助你回答问题、创作文字，如写故事、公文、技术文档等，还能表达观点，玩游戏等。如果你有任何问题或需要帮助，尽管告诉我哦！你今天过得怎么样？\n",
      "Human: 你认识成龙吗？ 说一部他出演的电影。 只说电影名，不要说其他内容。\n",
      "AI: 《醉拳》\n",
      "Human: 你还记得我叫什么吗？\n",
      "AI:\u001b[0m\n",
      "\n",
      "\u001b[1m> Finished chain.\u001b[0m\n",
      "对话内容：你还记得我叫什么吗？\n",
      "对话回复：当然记得！你叫呱呱蛙。有什么我可以帮助你的吗？\n",
      "====================\n",
      "存储：{'history': 'Human: 你好，我是呱呱蛙。\\nAI: 你好呱呱蛙！很高兴认识你。我是通义千问，你可以叫我Qwen。我是一个大型语言模型，能够帮助你回答问题、创作文字，如写故事、公文、技术文档等，还能表达观点，玩游戏等。如果你有任何问题或需要帮助，尽管告诉我哦！你今天过得怎么样？\\nHuman: 你认识成龙吗？ 说一部他出演的电影。 只说电影名，不要说其他内容。\\nAI: 《醉拳》\\nHuman: 你还记得我叫什么吗？\\nAI: 当然记得！你叫呱呱蛙。有什么我可以帮助你的吗？'}\n",
      "存储：{'history': 'Human: 你好，我是呱呱蛙。\\nAI: 你好呱呱蛙！很高兴认识你。我是通义千问，你可以叫我Qwen。我是一个大型语言模型，能够帮助你回答问题、创作文字，如写故事、公文、技术文档等，还能表达观点，玩游戏等。如果你有任何问题或需要帮助，尽管告诉我哦！你今天过得怎么样？\\nHuman: 你认识成龙吗？ 说一部他出演的电影。 只说电影名，不要说其他内容。\\nAI: 《醉拳》\\nHuman: 你还记得我叫什么吗？\\nAI: 当然记得！你叫呱呱蛙。有什么我可以帮助你的吗？\\nHuman: 很高兴和你成为朋友！\\nAI: 是的，让我们一起去冒险吧！'}\n"
     ]
    }
   ],
   "source": [
    "import os\n",
    "from langchain_openai import ChatOpenAI\n",
    "from langchain.chains.conversation.base import ConversationChain\n",
    "from langchain.memory import ConversationBufferMemory\n",
    "\n",
    "\n",
    "# 初始化对话模型\n",
    "llm = ChatOpenAI(\n",
    "    model=\"qwen-turbo\",\n",
    "    api_key=os.getenv(\"API_KEY\"),\n",
    "    base_url=os.getenv(\"API_BASEURL\")\n",
    ")\n",
    "\n",
    "memory = ConversationBufferMemory()\n",
    "\n",
    "chain = ConversationChain(llm = llm,memory = memory,verbose = True)\n",
    "\n",
    "\n",
    "# 进行多轮对话\n",
    "word1 = \"你好，我是呱呱蛙。\"\n",
    "\n",
    "word2 = \"你认识成龙吗？ 说一部他出演的电影。 只说电影名，不要说其他内容。\"\n",
    "\n",
    "word3 = \"你还记得我叫什么吗？\"\n",
    "\n",
    "words = [word1,word2,word3]\n",
    "\n",
    "# 模拟进行多轮对话\n",
    "\n",
    "for word in words:\n",
    "    response = chain.predict(input = word)\n",
    "    print(f\"对话内容：{word}\")\n",
    "    print(f\"对话回复：{response}\")\n",
    "    \n",
    "\n",
    "print(\"=\"*20)\n",
    "\n",
    "# 查看存储缓存\n",
    "\n",
    "buffer = memory.load_memory_variables({})\n",
    "\n",
    "print(f\"存储：{buffer}\")\n",
    "\n",
    "\n",
    "# 手动添加对话内容\n",
    "memory.save_context({\"input\": \"很高兴和你成为朋友！\"}, {\"output\": \"是的，让我们一起去冒险吧！\"})\n",
    "\n",
    "# 查看存储缓存\n",
    "buffer = memory.load_memory_variables({})\n",
    "\n",
    "print(f\"存储：{buffer}\")\n",
    "\n",
    "\n",
    "\n",
    "\n"
   ]
  },
  {
   "cell_type": "markdown",
   "metadata": {},
   "source": [
    "## 对话缓存窗口存储\n",
    "随着对话变得越来越长，所需的内存量也变得非常长。将大量的tokens发送到LLM的成本，也会变得更加昂贵，这也就是为什么API的调用费用，通常是基于它需要处理的tokens数量而收费的。\n",
    "\n",
    "针对以上问题，LangChain也提供了几种方便的储存方式来保存历史对话。其中，对话缓存窗口储存只保留一个窗口大小的对话。它只使用最近的n次交互。这可以用于保持最近交互的滑动窗口，以便缓冲区不会过大。"
   ]
  },
  {
   "cell_type": "code",
   "execution_count": 5,
   "metadata": {},
   "outputs": [
    {
     "name": "stderr",
     "output_type": "stream",
     "text": [
      "C:\\Users\\Administrator\\AppData\\Local\\Temp\\ipykernel_30672\\1218610375.py:4: LangChainDeprecationWarning: Please see the migration guide at: https://python.langchain.com/docs/versions/migrating_memory/\n",
      "  memory = ConversationBufferWindowMemory(k=1)\n"
     ]
    },
    {
     "data": {
      "text/plain": [
       "{'history': 'Human: 很高兴和你成为朋友！\\nAI: 是的，让我们一起去冒险吧！'}"
      ]
     },
     "execution_count": 5,
     "metadata": {},
     "output_type": "execute_result"
    }
   ],
   "source": [
    "from langchain.memory import ConversationBufferWindowMemory\n",
    "\n",
    "# k=1表明只保留最后的一个对话记忆\n",
    "memory = ConversationBufferWindowMemory(k=1)  \n",
    "memory.save_context({\"input\": \"你好，我叫呱呱蛙\"}, {\"output\": \"你好呱呱蛙！很高兴认识你。我是通义千问，你可以叫我Qwen。我是一个大型语言模型，能够帮助你回答问题、创作文字，如写故事、公文、技术文档等，还能表达观点，玩游戏等。如果你有任何问题或需要帮助，尽管告诉我哦！你今天过得怎么样？\"})\n",
    "memory.save_context({\"input\": \"很高兴和你成为朋友！\"}, {\"output\": \"是的，让我们一起去冒险吧！\"})\n",
    "memory.load_memory_variables({})"
   ]
  }
 ],
 "metadata": {
  "kernelspec": {
   "display_name": "Python (Anaconda)",
   "language": "python",
   "name": "anaconda"
  },
  "language_info": {
   "codemirror_mode": {
    "name": "ipython",
    "version": 3
   },
   "file_extension": ".py",
   "mimetype": "text/x-python",
   "name": "python",
   "nbconvert_exporter": "python",
   "pygments_lexer": "ipython3",
   "version": "3.12.3"
  }
 },
 "nbformat": 4,
 "nbformat_minor": 2
}
