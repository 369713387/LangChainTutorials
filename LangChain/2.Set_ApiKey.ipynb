{
 "cells": [
  {
   "cell_type": "markdown",
   "metadata": {},
   "source": [
    "# 导入API_KEY"
   ]
  },
  {
   "cell_type": "markdown",
   "metadata": {},
   "source": [
    "## 创建config文件"
   ]
  },
  {
   "cell_type": "code",
   "execution_count": null,
   "metadata": {
    "vscode": {
     "languageId": "html"
    }
   },
   "outputs": [],
   "source": [
    "{\n",
    "    \"api_key\": \"your key\",\n",
    "    \"api_base\": \"https://dashscope.aliyuncs.com/compatible-mode/v1\",\n",
    "    \"deepseek_model\": \"deepseek-r1\",\n",
    "    \"qwen_model\": \"qwen-turbo\"\n",
    "} "
   ]
  },
  {
   "cell_type": "markdown",
   "metadata": {},
   "source": [
    "## 通过dashscope调用千问大模型"
   ]
  },
  {
   "cell_type": "markdown",
   "metadata": {},
   "source": [
    "### 安装dashscope依赖"
   ]
  },
  {
   "cell_type": "code",
   "execution_count": null,
   "metadata": {
    "vscode": {
     "languageId": "html"
    }
   },
   "outputs": [],
   "source": [
    "%pip install dashscope"
   ]
  },
  {
   "cell_type": "markdown",
   "metadata": {},
   "source": [
    "### 将API_KEY设置为环境变量并调用千问大模型"
   ]
  },
  {
   "cell_type": "code",
   "execution_count": 3,
   "metadata": {},
   "outputs": [
    {
     "name": "stdout",
     "output_type": "stream",
     "text": [
      "{\"status_code\": 200, \"request_id\": \"8c239bb2-17a0-9482-8eb3-4c83b4891ba3\", \"code\": \"\", \"message\": \"\", \"output\": {\"text\": \"你好！有什么我可以帮助你的？\", \"finish_reason\": \"stop\", \"choices\": null}, \"usage\": {\"input_tokens\": 9, \"output_tokens\": 7, \"total_tokens\": 16}}\n"
     ]
    }
   ],
   "source": [
    "import os\n",
    "import json\n",
    "import dashscope\n",
    "from dashscope import Generation\n",
    "\n",
    "# 读取配置文件\n",
    "with open(\"config.json\", \"r\") as f:\n",
    "    config = json.load(f)\n",
    "    \n",
    "def chat_with_qwen(prompt):\n",
    "    response = Generation.call(\n",
    "        model=config['qwen_model'],\n",
    "        prompt=prompt,\n",
    "        api_key=config['api_key']\n",
    "    )\n",
    "    if response.status_code == 200:\n",
    "        return response\n",
    "    else:\n",
    "        raise Exception(f\"API调用失败: {response.code} - {response.message}\")\n",
    "    \n",
    "output = chat_with_qwen(\"你好\")\n",
    "\n",
    "print(output)\n"
   ]
  },
  {
   "cell_type": "markdown",
   "metadata": {},
   "source": [
    "### 通过阿里云的 OpenAI 兼容模式访问 DeepSeek 模型"
   ]
  },
  {
   "cell_type": "markdown",
   "metadata": {},
   "source": [
    "### 安装OpenAI依赖"
   ]
  },
  {
   "cell_type": "code",
   "execution_count": null,
   "metadata": {},
   "outputs": [],
   "source": [
    "%conda install -c conda-forge openai"
   ]
  },
  {
   "cell_type": "markdown",
   "metadata": {},
   "source": [
    "### 将API_KEY设置为环境变量并调用DeepSeek-R1模型"
   ]
  },
  {
   "cell_type": "code",
   "execution_count": 1,
   "metadata": {},
   "outputs": [
    {
     "name": "stdout",
     "output_type": "stream",
     "text": [
      "模型回复: 您好！我是由中国的深度求索（DeepSeek）公司开发的智能助手DeepSeek-R1。如您有任何任何问题，我会尽我所能为您提供帮助。\n"
     ]
    }
   ],
   "source": [
    "import os\n",
    "import json\n",
    "from openai import OpenAI\n",
    "\n",
    "# 读取配置\n",
    "with open(\"config.json\", \"r\") as f:\n",
    "    config = json.load(f)\n",
    "\n",
    "# 设置环境变量,临时变量\n",
    "os.environ[\"OPENAI_API_KEY\"] = config[\"api_key\"]\n",
    "os.environ[\"OPENAI_API_BASE\"] = config[\"api_base\"]\n",
    "\n",
    "# 创建 OpenAI 客户端\n",
    "client = OpenAI(\n",
    "    api_key=os.environ[\"OPENAI_API_KEY\"],\n",
    "    base_url=os.environ[\"OPENAI_API_BASE\"]\n",
    ")\n",
    "\n",
    "def chat_with_deepseek(messages):\n",
    "    try:\n",
    "        response = client.chat.completions.create(\n",
    "            model=config[\"deepseek_model\"],  # 使用 DeepSeek 模型\n",
    "            messages=messages,\n",
    "            temperature=0.7,\n",
    "            max_tokens=2000\n",
    "        )\n",
    "        return response.choices[0].message.content\n",
    "    except Exception as e:\n",
    "        print(f\"调用API时出错: {str(e)}\")\n",
    "        return None\n",
    "\n",
    "# 测试函数\n",
    "def test_chat():\n",
    "    messages = [\n",
    "        {\"role\": \"user\", \"content\": \"你好，请介绍一下你自己\"}\n",
    "    ]\n",
    "    response = chat_with_deepseek(messages)\n",
    "    if response:\n",
    "        print(\"模型回复:\", response)\n",
    "    else:\n",
    "        print(\"调用失败\")\n",
    "\n",
    "# 运行测试\n",
    "test_chat()"
   ]
  },
  {
   "cell_type": "markdown",
   "metadata": {},
   "source": [
    "## 简单对话调用"
   ]
  },
  {
   "cell_type": "code",
   "execution_count": 5,
   "metadata": {},
   "outputs": [
    {
     "data": {
      "text/plain": [
       "AIMessage(content='你好！有什么我可以帮助你的吗？', additional_kwargs={'refusal': None}, response_metadata={'token_usage': {'completion_tokens': 129, 'prompt_tokens': 4, 'total_tokens': 133, 'completion_tokens_details': None, 'prompt_tokens_details': None}, 'model_name': 'deepseek-r1', 'system_fingerprint': None, 'id': 'chatcmpl-f88c1f62-bb51-98e6-92fe-1b572614a3dd', 'finish_reason': 'stop', 'logprobs': None}, id='run-a8300976-2bd9-467b-8774-77d4bbfb7739-0', usage_metadata={'input_tokens': 4, 'output_tokens': 129, 'total_tokens': 133, 'input_token_details': {}, 'output_token_details': {}})"
      ]
     },
     "execution_count": 5,
     "metadata": {},
     "output_type": "execute_result"
    }
   ],
   "source": [
    "import os\n",
    "from langchain_openai import ChatOpenAI\n",
    "\n",
    "# 确保已在电脑中设置好持久存储的环境变量\n",
    "# API_KEY = sk-xxxxxxxxxxxxxxxxxxxxxxxxxxxxxxxx\n",
    "# API_BASEURL = https://dashscope.aliyuncs.com/compatible-mode/v1\n",
    "\n",
    "# 初始化大模型\n",
    "llm = ChatOpenAI(\n",
    "    model= \"deepseek-r1\",\n",
    "    api_key=os.environ[\"API_KEY\"],\n",
    "    base_url=os.environ[\"API_BASEURL\"]\n",
    "    )\n",
    "\n",
    "llm.invoke(\"你好\")\n"
   ]
  }
 ],
 "metadata": {
  "kernelspec": {
   "display_name": "base",
   "language": "python",
   "name": "python3"
  },
  "language_info": {
   "codemirror_mode": {
    "name": "ipython",
    "version": 3
   },
   "file_extension": ".py",
   "mimetype": "text/x-python",
   "name": "python",
   "nbconvert_exporter": "python",
   "pygments_lexer": "ipython3",
   "version": "3.12.3"
  }
 },
 "nbformat": 4,
 "nbformat_minor": 2
}
