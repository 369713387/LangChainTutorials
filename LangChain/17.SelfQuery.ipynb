{
 "cells": [
  {
   "cell_type": "markdown",
   "metadata": {},
   "source": [
    "# LangChain自查询(Self Query)功能\n",
    "## 自查询(Self Query)简介\n",
    "    自查询是LangChain提供的一种强大功能，它允许用户使用自然语言查询向量数据库，并自动将查询解析为：\n",
    "        - 语义查询部分（用于向量搜索）\n",
    "        - 结构化查询部分（用于过滤）\n",
    "    \n",
    "    这种方式结合了向量搜索的语义能力和传统数据库的过滤能力，使查询更加精准。\n",
    "### 工作原理\n",
    "        - 将自然语言查询拆分为搜索部分和过滤部分\n",
    "        - 使用向量相似度搜索相关文档\n",
    "        - 应用过滤条件进一步筛选结果\n",
    "        - 返回最终匹配的文档\n",
    "    \n",
    "### 适用场景\n",
    "        - 需要同时基于语义和元数据进行搜索的应用\n",
    "        - 用户可能使用自然语言表达复杂查询条件的情况\n",
    "        - RAG系统中需要精确过滤检索结果的场景"
   ]
  },
  {
   "cell_type": "markdown",
   "metadata": {},
   "source": [
    "### 代码示例\n",
    "注意：自查询检索器需要安装lark软件包，且不支持FAISS数据库，需要使用Chroma数据库\n",
    "\n",
    "安装命令 pip install lark"
   ]
  },
  {
   "cell_type": "code",
   "execution_count": 2,
   "metadata": {},
   "outputs": [
    {
     "name": "stdout",
     "output_type": "stream",
     "text": [
      "文档列表: [Document(metadata={'source': '文档1', 'category': '自然', 'author': '张三'}, page_content='一群蚂蚁在搬食物'), Document(metadata={'source': '文档2', 'category': '剧情', 'author': '李四'}, page_content='故事发生1920年，马邦德花钱买了一个老婆。'), Document(metadata={'source': '文档3', 'category': '动画', 'author': '王五'}, page_content='寻梦环游记，讲述的是一个关于梦想的故事。')]\n",
      "向量数据库已创建并保存到本地\n",
      "检索结果: [Document(metadata={'author': '王五', 'category': '动画', 'source': '文档3'}, page_content='寻梦环游记，讲述的是一个关于梦想的故事。'), Document(metadata={'author': '王五', 'category': '动画', 'source': '文档3'}, page_content='寻梦环游记，讲述的是一个关于梦想的故事。')]\n"
     ]
    }
   ],
   "source": [
    "# 导入必要的库\n",
    "import os\n",
    "import lark\n",
    "from langchain_core.documents import Document\n",
    "from langchain_community.vectorstores import Chroma\n",
    "from langchain_community.embeddings import DashScopeEmbeddings\n",
    "from langchain_openai import ChatOpenAI\n",
    "from langchain.chains.query_constructor.base import AttributeInfo\n",
    "from langchain.retrievers.self_query.base import SelfQueryRetriever\n",
    "\n",
    "## 1. 创建一个简单的文档列表\n",
    "documents = [\n",
    "    Document(page_content=\"一群蚂蚁在搬食物\", metadata={\"source\": \"文档1\", \"category\": \"自然\", \"author\": \"张三\"}),\n",
    "    Document(page_content=\"故事发生1920年，马邦德花钱买了一个老婆。\", metadata={\"source\": \"文档2\", \"category\": \"剧情\", \"author\": \"李四\"}),\n",
    "    Document(page_content=\"寻梦环游记，讲述的是一个关于梦想的故事。\", metadata={\"source\": \"文档3\", \"category\": \"动画\", \"author\": \"王五\"}),\n",
    "]\n",
    "\n",
    "print(f\"文档列表: {documents}\")\n",
    "\n",
    "## 2. 创建向量存储\n",
    "embeddings = DashScopeEmbeddings(\n",
    "    model=\"text-embedding-v2\",\n",
    "    dashscope_api_key=os.getenv(\"API_KEY\"),\n",
    ")\n",
    "vector_store = Chroma.from_documents(documents, embedding=embeddings,persist_directory=\"ChromaDB/self_query\")\n",
    "\n",
    "print(\"向量数据库已创建并保存到本地\")\n",
    "\n",
    "## 3. 配置自查询检索器\n",
    "\n",
    "llm = ChatOpenAI(\n",
    "    model=\"qwen-turbo\",\n",
    "    api_key=os.getenv(\"API_KEY\"),\n",
    "    base_url=os.getenv(\"API_BASEURL\"),\n",
    ")\n",
    "\n",
    "# 定义文档元数据属性\n",
    "metadate_field_info = [\n",
    "    AttributeInfo(\n",
    "        name=\"source\",\n",
    "        description=\"文档来源\",\n",
    "        type=\"string\",\n",
    "        required=True,\n",
    "    ),\n",
    "    AttributeInfo(\n",
    "        name=\"category\",\n",
    "        description=\"文档类型\",\n",
    "        type=\"string\",\n",
    "        required=True,\n",
    "    ),\n",
    "    AttributeInfo(\n",
    "        name=\"author\",\n",
    "        description=\"文档作者\",\n",
    "        type=\"string\",\n",
    "        required=True,\n",
    "    ),\n",
    "]\n",
    "\n",
    "# 文档内容描述\n",
    "document_content_description = \"文档基础信息\"\n",
    "\n",
    "# 创建自查询检索器\n",
    "retriever = SelfQueryRetriever.from_llm(\n",
    "    llm,\n",
    "    vector_store,\n",
    "    document_content_description,\n",
    "    metadate_field_info,\n",
    "    verbose=True,\n",
    "    enable_limit=True,\n",
    "    search_kwargs={\"k\": 2},\n",
    ")\n",
    "\n",
    "## 4. 测试自查询检索器\n",
    "query = \"请检索关于梦想的文档\"\n",
    "\n",
    "results = retriever.invoke(query)\n",
    "\n",
    "print(f\"检索结果: {results}\")\n",
    "\n"
   ]
  }
 ],
 "metadata": {
  "kernelspec": {
   "display_name": "base",
   "language": "python",
   "name": "python3"
  },
  "language_info": {
   "codemirror_mode": {
    "name": "ipython",
    "version": 3
   },
   "file_extension": ".py",
   "mimetype": "text/x-python",
   "name": "python",
   "nbconvert_exporter": "python",
   "pygments_lexer": "ipython3",
   "version": "3.12.3"
  }
 },
 "nbformat": 4,
 "nbformat_minor": 2
}
