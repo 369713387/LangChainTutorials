{
 "cells": [
  {
   "cell_type": "markdown",
   "metadata": {},
   "source": [
    "# LangChain聊天消息类型概述\n",
    "本篇章主要来介绍LangChain中不同类型的聊天消息(BaseMessage)的使用方法。\n",
    "## 核心内容\n",
    "\n",
    "### 1. 消息类型\n",
    "三种基本消息类型：\n",
    "- **SystemMessage**: 用于设置AI助手的行为或角色\n",
    "- **HumanMessage**: 表示用户输入\n",
    "- **AIMessage**: 表示AI助手的回复\n",
    "\n",
    "### 2. 对话流程\n",
    "两种对话模式：\n",
    "- **单轮对话**: 使用SystemMessage和HumanMessage进行基础交互\n",
    "- **多轮对话**: 模拟完整对话，通过添加AIMessage来保持上下文连贯性\n",
    "\n",
    "### 3. 数据结构\n",
    "Document数据结构，这是LangChain中用于处理文本内容的基本单元：\n",
    "- 包含page_content(文本内容)\n",
    "- 包含metadata(元数据)字典\n",
    "\n",
    "\n",
    "## 技术要点\n",
    "1. 使用ChatOpenAI类与大语言模型交互\n",
    "2. 通过消息序列构建对话上下文\n",
    "3. 不同消息类型对应不同的角色和功能\n",
    "4. 返回的响应包含完整的元数据和使用统计\n",
    "\n",
    "## 应用场景\n",
    "这些基本消息类型是构建复杂对话系统的基础，可用于：\n",
    "- 聊天机器人开发\n",
    "- 对话式AI应用\n",
    "- 上下文感知的问答系统\n",
    "- 自定义Agent开发\n",
    "\n",
    "下面代码演示了如何使用这些消息与大语言模型(LLM)进行交互。"
   ]
  },
  {
   "cell_type": "markdown",
   "metadata": {},
   "source": [
    "## 使用SystemMessage和HumanMessage进行一轮对话"
   ]
  },
  {
   "cell_type": "code",
   "execution_count": 9,
   "metadata": {},
   "outputs": [
    {
     "name": "stdout",
     "output_type": "stream",
     "text": [
      "content='你好！很高兴见到你！有什么我可以帮忙的吗？' additional_kwargs={'refusal': None} response_metadata={'token_usage': {'completion_tokens': 11, 'prompt_tokens': 17, 'total_tokens': 28, 'completion_tokens_details': None, 'prompt_tokens_details': None}, 'model_name': 'deepseek-v3', 'system_fingerprint': None, 'id': 'chatcmpl-0fd6c8ee-68d5-9c2d-9542-e41246d22339', 'finish_reason': 'stop', 'logprobs': None} id='run-22847858-2fc6-4c92-ba74-095012768962-0' usage_metadata={'input_tokens': 17, 'output_tokens': 11, 'total_tokens': 28, 'input_token_details': {}, 'output_token_details': {}}\n"
     ]
    }
   ],
   "source": [
    "import json\n",
    "import os\n",
    "from langchain_openai import ChatOpenAI\n",
    "from langchain.schema import HumanMessage,SystemMessage,AIMessage \n",
    "\n",
    "# 创建 OpenAI 客户端\n",
    "llm = ChatOpenAI(\n",
    "    model=\"deepseek-r1\",\n",
    "    api_key = os.getenv(\"API_KEY\"),\n",
    "    base_url = os.getenv(\"API_BASEURL\"),\n",
    "    temperature=0.7\n",
    ")\n",
    "\n",
    "# 简单对话\n",
    "r = llm.invoke(\n",
    "    [\n",
    "    SystemMessage(content=\"你是一个AI助手，请回答用户的问题。\"),\n",
    "    HumanMessage(content=\"你好，世界！\")\n",
    "    ]\n",
    ")\n",
    "\n",
    "print(r)\n"
   ]
  },
  {
   "cell_type": "markdown",
   "metadata": {},
   "source": [
    "## 加入AIMessage模拟进行两轮对话"
   ]
  },
  {
   "cell_type": "code",
   "execution_count": 2,
   "metadata": {},
   "outputs": [
    {
     "name": "stdout",
     "output_type": "stream",
     "text": [
      "content='苹果是非常多用途的水果，适合制作甜点、主菜、饮品，甚至中西结合的创意料理！以下是几种常见的苹果烹饪方式，供你参考：\\n\\n---\\n\\n### **1. 经典甜点类**\\n- **苹果派**：酥皮包裹肉桂糖渍苹果，烤箱烤制，香甜酥脆。\\n- **焦糖苹果**：苹果裹焦糖或巧克力，撒坚果碎，节日感十足。\\n- **苹果塔（Tarte Tatin）**：法式反转焦糖苹果挞，口感浓郁。\\n- **苹果布丁/苹果crumble**：炖苹果配燕麦酥粒，简单暖胃。\\n\\n---\\n\\n### **2. 中西式主菜**\\n- **苹果炖排骨/猪肉**：酸甜果香中和肉腻（如中式苹果糖醋排骨，或西式苹果炖猪排）。\\n- **苹果烤鸡**：整鸡或鸡腿与苹果、洋葱、迷迭香一起烤制，果香渗入肉质。\\n- **苹果沙拉**：切片搭配生菜、核桃、奶酪，淋蜂蜜芥末酱，清爽开胃。\\n- **苹果咖喱**：印度风咖喱中加入苹果泥，增添自然甜味（适合配鸡肉或蔬菜）。\\n\\n---\\n\\n### **3. 饮品&汤类**\\n- **苹果茶/苹果热红酒**：煮苹果片加肉桂、红茶，或红酒炖苹果（冬季暖饮）。\\n- **苹果浓汤**：西式做法，苹果+洋葱+土豆打成泥，加奶油调味。\\n- **苹果雪梨糖水**：中式润肺甜品，苹果+梨+冰糖炖煮，适合秋冬。\\n\\n---\\n\\n### **4. 创意搭配**\\n- **苹果燕麦粥**：煮燕麦时加入苹果丁，提升口感与营养。\\n- **苹果酱**：自制果酱，涂抹面包或搭配烤肉。\\n- **苹果披萨**：薄底披萨铺苹果片、蓝纹奶酪、核桃，咸甜结合。\\n\\n---\\n\\n### **小贴士**\\n- **选苹果**：酸甜脆的品种（如富士、嘎啦）适合烹饪，粉苹果（如蛇果）易煮烂，适合做酱。\\n- **调味搭配**：肉桂、蜂蜜、坚果、奶酪与苹果是绝配，咸甜皆可尝试！\\n\\n如果需要具体食谱或步骤，可以告诉我你想尝试哪一种哦~ 😊' additional_kwargs={'refusal': None} response_metadata={'token_usage': {'completion_tokens': 844, 'prompt_tokens': 28, 'total_tokens': 872, 'completion_tokens_details': None, 'prompt_tokens_details': None}, 'model_name': 'deepseek-r1', 'system_fingerprint': None, 'id': 'chatcmpl-847c08b9-4307-976c-82c4-14f19982010f', 'finish_reason': 'stop', 'logprobs': None} id='run-ca530097-2c37-4484-902a-413a6bbd543e-0' usage_metadata={'input_tokens': 28, 'output_tokens': 844, 'total_tokens': 872, 'input_token_details': {}, 'output_token_details': {}}\n"
     ]
    }
   ],
   "source": [
    "import os\n",
    "from langchain_openai import ChatOpenAI\n",
    "from langchain.schema import HumanMessage,SystemMessage,AIMessage \n",
    "\n",
    "# 创建 OpenAI 客户端\n",
    "llm = ChatOpenAI(\n",
    "    model=\"deepseek-r1\",\n",
    "    api_key = os.getenv(\"API_KEY\"),\n",
    "    base_url = os.getenv(\"API_BASEURL\"),\n",
    "    temperature=0.7\n",
    ")\n",
    "\n",
    "# 简单对话\n",
    "r = llm.invoke(\n",
    "    [\n",
    "    SystemMessage(content=\"你是一个AI助手，请回答用户的问题。\"),\n",
    "    HumanMessage(content=\"我喜欢吃什么？\"),\n",
    "    AIMessage(content=\"我喜欢吃苹果。\"),\n",
    "    HumanMessage(content=\"苹果可以煮什么菜\")\n",
    "    ]\n",
    ")\n",
    "\n",
    "print(r)\n"
   ]
  },
  {
   "cell_type": "markdown",
   "metadata": {},
   "source": [
    "## 文档——数据结构"
   ]
  },
  {
   "cell_type": "code",
   "execution_count": 11,
   "metadata": {},
   "outputs": [
    {
     "name": "stdout",
     "output_type": "stream",
     "text": [
      "page_content='你好，世界！' metadata={'source': 'test'}\n"
     ]
    }
   ],
   "source": [
    "from langchain.schema import Document\n",
    "\n",
    "doc = Document(page_content=\"你好，世界！\",metadata={\"source\":\"test\"})\n",
    "\n",
    "print(doc)"
   ]
  }
 ],
 "metadata": {
  "kernelspec": {
   "display_name": "Python (Anaconda)",
   "language": "python",
   "name": "anaconda"
  },
  "language_info": {
   "codemirror_mode": {
    "name": "ipython",
    "version": 3
   },
   "file_extension": ".py",
   "mimetype": "text/x-python",
   "name": "python",
   "nbconvert_exporter": "python",
   "pygments_lexer": "ipython3",
   "version": "3.12.3"
  }
 },
 "nbformat": 4,
 "nbformat_minor": 2
}
